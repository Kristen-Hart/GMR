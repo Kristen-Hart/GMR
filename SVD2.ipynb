{
 "cells": [
  {
   "cell_type": "code",
   "execution_count": 1,
   "id": "6685f350-17b8-4980-b2fa-3ae437412008",
   "metadata": {},
   "outputs": [],
   "source": [
    "import pandas as pd\n",
    "import surprise as sp\n",
    "from itertools import combinations\n",
    "from collections import Counter\n",
    "import ast \n",
    "from sklearn.preprocessing import MultiLabelBinarizer\n",
    "from surprise import Dataset, Reader, SVD\n",
    "from surprise.model_selection import train_test_split\n",
    "from surprise import accuracy\n",
    "import numpy as np\n",
    "from collections import defaultdict"
   ]
  },
  {
   "cell_type": "code",
   "execution_count": 2,
   "id": "65669960-49c3-4d98-9538-2cbfa8d09e1f",
   "metadata": {},
   "outputs": [
    {
     "name": "stdout",
     "output_type": "stream",
     "text": [
      "/Users/smash/Documents/GitHub/GMR\n"
     ]
    }
   ],
   "source": [
    "import os\n",
    "new_dir = '/Users/smash/Documents/GitHub/GMR'  # Replace with the actual path\n",
    "os.chdir(new_dir)\n",
    "print(os.getcwd())"
   ]
  },
  {
   "cell_type": "code",
   "execution_count": 3,
   "id": "a23b8131-3998-4bd8-a638-f69e852f0680",
   "metadata": {},
   "outputs": [
    {
     "name": "stdout",
     "output_type": "stream",
     "text": [
      "            playerid                                            library\n",
      "0  76561198060698936  [60, 1670, 3830, 1600, 2900, 2910, 2920, 4800,...\n",
      "1  76561198287452552  [10, 80, 100, 240, 2990, 6880, 6910, 6920, 698...\n",
      "2  76561198040436563  [10, 80, 100, 300, 20, 30, 40, 50, 60, 70, 130...\n",
      "3  76561198042412488  [300, 240, 220, 320, 360, 4300, 4800, 4000, 61...\n",
      "4  76561198119605821  [47870, 108600, 550, 271590, 331470, 381210, 2...\n",
      "(98248, 7)\n",
      "(94260, 7)\n"
     ]
    }
   ],
   "source": [
    "df = pd.read_csv('rawdata/steam/purchased_games.csv')\n",
    "print(df.head())\n",
    "games_df = pd.read_csv('rawdata/steam/games.csv')\n",
    "print(games_df.shape)\n",
    "games_df = games_df[games_df[\"supported_languages\"].str.contains(\"English\", case=False, na=True)]\n",
    "print(games_df.shape)\n",
    "games_df = games_df[['gameid','title']]\n",
    "#games_df['gameid'] = games_df['gameid'].astype(str) \n",
    "#df = df[:100]\n",
    "df = df.dropna()\n",
    "df['library'] = df['library'].apply(ast.literal_eval)"
   ]
  },
  {
   "cell_type": "code",
   "execution_count": 4,
   "id": "770403e7-e48b-417e-80bb-595b8b4457fd",
   "metadata": {},
   "outputs": [],
   "source": [
    "games_dict = games_df.set_index('gameid')['title'].to_dict()"
   ]
  },
  {
   "cell_type": "code",
   "execution_count": 11,
   "id": "bf778589-6a53-4a71-b8c7-4fadf55cefb4",
   "metadata": {},
   "outputs": [],
   "source": [
    "mlb = MultiLabelBinarizer()\n",
    "binary_matrix = mlb.fit_transform(df['library'])\n",
    "game_columns = mlb.classes_\n",
    "df_binary = pd.DataFrame(binary_matrix, columns=game_columns, index=df.index)\n",
    "df_expanded = pd.concat([df[['playerid']], df_binary], axis=1)\n",
    "cols_to_drop = (df == 0).all()\n",
    "cols_to_drop = cols_to_drop[cols_to_drop].index.tolist()\n",
    "df_expanded = df_expanded.drop(columns=cols_to_drop)\n",
    "df_expanded = df_expanded.rename(columns=games_dict)\n",
    "columns_to_drop = [col for col in df_expanded.columns if str(col).isdigit()]\n",
    "df_expanded = df_expanded.drop(columns=columns_to_drop)\n"
   ]
  },
  {
   "cell_type": "code",
   "execution_count": 12,
   "id": "cc61ee95-7703-4760-868a-0ea963c50a1a",
   "metadata": {},
   "outputs": [],
   "source": [
    "rows_to_drop = (df_expanded == 0).all(axis=1)\n",
    "df_expanded = df_expanded[~rows_to_drop]\n"
   ]
  },
  {
   "cell_type": "code",
   "execution_count": 13,
   "id": "68f01f32-ef34-44a7-aacc-13bf953dab1a",
   "metadata": {},
   "outputs": [
    {
     "data": {
      "text/html": [
       "<div>\n",
       "<style scoped>\n",
       "    .dataframe tbody tr th:only-of-type {\n",
       "        vertical-align: middle;\n",
       "    }\n",
       "\n",
       "    .dataframe tbody tr th {\n",
       "        vertical-align: top;\n",
       "    }\n",
       "\n",
       "    .dataframe thead th {\n",
       "        text-align: right;\n",
       "    }\n",
       "</style>\n",
       "<table border=\"1\" class=\"dataframe\">\n",
       "  <thead>\n",
       "    <tr style=\"text-align: right;\">\n",
       "      <th></th>\n",
       "      <th>playerid</th>\n",
       "      <th>Counter-Strike</th>\n",
       "      <th>Team Fortress Classic</th>\n",
       "      <th>Day of Defeat</th>\n",
       "      <th>Deathmatch Classic</th>\n",
       "      <th>Half-Life: Opposing Force</th>\n",
       "      <th>Ricochet</th>\n",
       "      <th>Half-Life</th>\n",
       "      <th>Counter-Strike: Condition Zero</th>\n",
       "      <th>Counter-Strike: Condition Zero</th>\n",
       "      <th>...</th>\n",
       "      <th>Sexy Memory Puzzle - Futanari BDSM</th>\n",
       "      <th>College Gay Sex - Episode 8</th>\n",
       "      <th>Sexy Memory Puzzle - Gay Affair</th>\n",
       "      <th>Futanari Sex Adventures - Episode 6</th>\n",
       "      <th>Sexy Memory Puzzle - Dildo Girl</th>\n",
       "      <th>Harem Inn</th>\n",
       "      <th>They're Alive!</th>\n",
       "      <th>Utopia City</th>\n",
       "      <th>Rat Hunter</th>\n",
       "      <th>Metathrone</th>\n",
       "    </tr>\n",
       "  </thead>\n",
       "  <tbody>\n",
       "    <tr>\n",
       "      <th>0</th>\n",
       "      <td>76561198060698936</td>\n",
       "      <td>0</td>\n",
       "      <td>1</td>\n",
       "      <td>0</td>\n",
       "      <td>0</td>\n",
       "      <td>1</td>\n",
       "      <td>1</td>\n",
       "      <td>1</td>\n",
       "      <td>0</td>\n",
       "      <td>0</td>\n",
       "      <td>...</td>\n",
       "      <td>0</td>\n",
       "      <td>0</td>\n",
       "      <td>0</td>\n",
       "      <td>0</td>\n",
       "      <td>0</td>\n",
       "      <td>0</td>\n",
       "      <td>0</td>\n",
       "      <td>0</td>\n",
       "      <td>0</td>\n",
       "      <td>0</td>\n",
       "    </tr>\n",
       "    <tr>\n",
       "      <th>1</th>\n",
       "      <td>76561198287452552</td>\n",
       "      <td>1</td>\n",
       "      <td>0</td>\n",
       "      <td>0</td>\n",
       "      <td>0</td>\n",
       "      <td>0</td>\n",
       "      <td>0</td>\n",
       "      <td>1</td>\n",
       "      <td>1</td>\n",
       "      <td>1</td>\n",
       "      <td>...</td>\n",
       "      <td>0</td>\n",
       "      <td>0</td>\n",
       "      <td>0</td>\n",
       "      <td>0</td>\n",
       "      <td>0</td>\n",
       "      <td>0</td>\n",
       "      <td>0</td>\n",
       "      <td>0</td>\n",
       "      <td>0</td>\n",
       "      <td>0</td>\n",
       "    </tr>\n",
       "    <tr>\n",
       "      <th>2</th>\n",
       "      <td>76561198040436563</td>\n",
       "      <td>1</td>\n",
       "      <td>1</td>\n",
       "      <td>1</td>\n",
       "      <td>1</td>\n",
       "      <td>1</td>\n",
       "      <td>1</td>\n",
       "      <td>1</td>\n",
       "      <td>1</td>\n",
       "      <td>1</td>\n",
       "      <td>...</td>\n",
       "      <td>0</td>\n",
       "      <td>0</td>\n",
       "      <td>0</td>\n",
       "      <td>0</td>\n",
       "      <td>0</td>\n",
       "      <td>0</td>\n",
       "      <td>0</td>\n",
       "      <td>0</td>\n",
       "      <td>0</td>\n",
       "      <td>0</td>\n",
       "    </tr>\n",
       "    <tr>\n",
       "      <th>3</th>\n",
       "      <td>76561198042412488</td>\n",
       "      <td>0</td>\n",
       "      <td>0</td>\n",
       "      <td>0</td>\n",
       "      <td>0</td>\n",
       "      <td>0</td>\n",
       "      <td>0</td>\n",
       "      <td>0</td>\n",
       "      <td>0</td>\n",
       "      <td>0</td>\n",
       "      <td>...</td>\n",
       "      <td>0</td>\n",
       "      <td>0</td>\n",
       "      <td>0</td>\n",
       "      <td>0</td>\n",
       "      <td>0</td>\n",
       "      <td>0</td>\n",
       "      <td>0</td>\n",
       "      <td>0</td>\n",
       "      <td>0</td>\n",
       "      <td>0</td>\n",
       "    </tr>\n",
       "    <tr>\n",
       "      <th>4</th>\n",
       "      <td>76561198119605821</td>\n",
       "      <td>0</td>\n",
       "      <td>0</td>\n",
       "      <td>0</td>\n",
       "      <td>0</td>\n",
       "      <td>0</td>\n",
       "      <td>0</td>\n",
       "      <td>0</td>\n",
       "      <td>0</td>\n",
       "      <td>0</td>\n",
       "      <td>...</td>\n",
       "      <td>0</td>\n",
       "      <td>0</td>\n",
       "      <td>0</td>\n",
       "      <td>0</td>\n",
       "      <td>0</td>\n",
       "      <td>0</td>\n",
       "      <td>0</td>\n",
       "      <td>0</td>\n",
       "      <td>0</td>\n",
       "      <td>0</td>\n",
       "    </tr>\n",
       "  </tbody>\n",
       "</table>\n",
       "<p>5 rows × 36314 columns</p>\n",
       "</div>"
      ],
      "text/plain": [
       "            playerid  Counter-Strike  Team Fortress Classic  Day of Defeat  \\\n",
       "0  76561198060698936               0                      1              0   \n",
       "1  76561198287452552               1                      0              0   \n",
       "2  76561198040436563               1                      1              1   \n",
       "3  76561198042412488               0                      0              0   \n",
       "4  76561198119605821               0                      0              0   \n",
       "\n",
       "   Deathmatch Classic  Half-Life: Opposing Force  Ricochet  Half-Life  \\\n",
       "0                   0                          1         1          1   \n",
       "1                   0                          0         0          1   \n",
       "2                   1                          1         1          1   \n",
       "3                   0                          0         0          0   \n",
       "4                   0                          0         0          0   \n",
       "\n",
       "   Counter-Strike: Condition Zero  Counter-Strike: Condition Zero  ...  \\\n",
       "0                               0                               0  ...   \n",
       "1                               1                               1  ...   \n",
       "2                               1                               1  ...   \n",
       "3                               0                               0  ...   \n",
       "4                               0                               0  ...   \n",
       "\n",
       "   Sexy Memory Puzzle - Futanari BDSM  College Gay Sex - Episode 8  \\\n",
       "0                                   0                            0   \n",
       "1                                   0                            0   \n",
       "2                                   0                            0   \n",
       "3                                   0                            0   \n",
       "4                                   0                            0   \n",
       "\n",
       "   Sexy Memory Puzzle - Gay Affair  Futanari Sex Adventures - Episode 6  \\\n",
       "0                                0                                    0   \n",
       "1                                0                                    0   \n",
       "2                                0                                    0   \n",
       "3                                0                                    0   \n",
       "4                                0                                    0   \n",
       "\n",
       "   Sexy Memory Puzzle - Dildo Girl  Harem Inn  They're Alive!  Utopia City  \\\n",
       "0                                0          0               0            0   \n",
       "1                                0          0               0            0   \n",
       "2                                0          0               0            0   \n",
       "3                                0          0               0            0   \n",
       "4                                0          0               0            0   \n",
       "\n",
       "   Rat Hunter  Metathrone  \n",
       "0           0           0  \n",
       "1           0           0  \n",
       "2           0           0  \n",
       "3           0           0  \n",
       "4           0           0  \n",
       "\n",
       "[5 rows x 36314 columns]"
      ]
     },
     "execution_count": 13,
     "metadata": {},
     "output_type": "execute_result"
    }
   ],
   "source": [
    "df_expanded.head()"
   ]
  },
  {
   "cell_type": "code",
   "execution_count": 14,
   "id": "7c8dd79d-fb4b-479c-877a-26c82afbccf6",
   "metadata": {},
   "outputs": [
    {
     "name": "stdout",
     "output_type": "stream",
     "text": [
      "(46941, 36314)\n"
     ]
    }
   ],
   "source": [
    "print(df_expanded.shape)\n"
   ]
  },
  {
   "cell_type": "code",
   "execution_count": 15,
   "id": "ceb9ac07-ee18-46e6-8780-9ec3f57c4e78",
   "metadata": {},
   "outputs": [
    {
     "name": "stdout",
     "output_type": "stream",
     "text": [
      "(9994427, 3)\n",
      "                user                                 item  rating\n",
      "0  76561198060698936                             Ricochet     1.0\n",
      "0  76561198060698936  Iron Warriors: T - 72 Tank Command      1.0\n",
      "0  76561198060698936                          Psychonauts     1.0\n",
      "0  76561198060698936                     Dangerous Waters     1.0\n",
      "0  76561198060698936                 688(I) Hunter/Killer     1.0\n"
     ]
    }
   ],
   "source": [
    "df_exploded = df.explode('library')\n",
    "df_exploded = df_exploded.rename(columns={'playerid': 'user', 'library': 'item'})\n",
    "df_exploded['rating'] = 1.0\n",
    "#df_exploded['item'] = df_exploded['item'].astype(int)\n",
    "df_exploded['item'] = df_exploded['item'].map(games_dict)\n",
    "df_surprise = df_exploded[['user', 'item', 'rating']].drop_duplicates()\n",
    "df_surprise = df_surprise.dropna()\n",
    "print(df_surprise.shape)\n",
    "print(df_surprise.head())"
   ]
  },
  {
   "cell_type": "code",
   "execution_count": 16,
   "id": "5b0e29d9-e372-491c-a1e9-e4127a358ab2",
   "metadata": {},
   "outputs": [
    {
     "data": {
      "text/plain": [
       "<surprise.prediction_algorithms.matrix_factorization.SVD at 0x2a7aa9890>"
      ]
     },
     "execution_count": 16,
     "metadata": {},
     "output_type": "execute_result"
    }
   ],
   "source": [
    "reader = Reader(rating_scale=(0, 1)) \n",
    "svd_data = Dataset.load_from_df(df_surprise[['user', 'item', 'rating']], reader)\n",
    "trainset, testset = train_test_split(svd_data, test_size=0.25, random_state=42)\n",
    "svd_model = SVD()\n",
    "svd_model.fit(trainset)\n"
   ]
  },
  {
   "cell_type": "code",
   "execution_count": 24,
   "id": "5e1bda33-8227-4c65-9bae-e6835428d609",
   "metadata": {},
   "outputs": [],
   "source": [
    "target_user_id = 76561198119605821\n",
    "all_game_ids = df_surprise['item'].unique()"
   ]
  },
  {
   "cell_type": "code",
   "execution_count": null,
   "id": "2b6e082b-91af-42cb-ad5b-19adec1756f9",
   "metadata": {},
   "outputs": [],
   "source": []
  },
  {
   "cell_type": "code",
   "execution_count": 25,
   "id": "1c629842-39ee-4694-ac40-38f9e46d5277",
   "metadata": {},
   "outputs": [
    {
     "name": "stdout",
     "output_type": "stream",
     "text": [
      "Games owned by 76561198119605821: ['Need For Speed: Hot Pursuit', 'Project Zomboid', 'Left 4 Dead 2', 'Grand Theft Auto V', 'Everlasting Summer', 'Dead by Daylight', 'Brawlhalla', 'World of Tanks Blitz', 'Call of Duty®: WWII', 'War Robots', 'The Crew™ 2', 'Counter-Strike 2', 'Drink More Glurp', 'Warface: Clutch', 'Crab Game', 'MEGA MAN X DiVE Offline', 'TEKKEN 8', 'NARUTO X BORUTO Ultimate Ninja STORM CONNECTIONS', 'WWE 2K24']\n"
     ]
    }
   ],
   "source": [
    "games_owned_by_target = df_surprise[df_surprise['user'] == target_user_id]['item'].tolist()\n",
    "\n",
    "print(f\"Games owned by {target_user_id}: {games_owned_by_target}\")"
   ]
  },
  {
   "cell_type": "code",
   "execution_count": null,
   "id": "cc6c1226-e1a4-467f-b061-9bed99ad212c",
   "metadata": {},
   "outputs": [],
   "source": []
  },
  {
   "cell_type": "code",
   "execution_count": 26,
   "id": "96db1675-9f27-4e04-8384-4190ec4fb9ba",
   "metadata": {},
   "outputs": [],
   "source": [
    "games_to_predict = [game_id for game_id in all_game_ids if game_id not in games_owned_by_target]"
   ]
  },
  {
   "cell_type": "code",
   "execution_count": 27,
   "id": "47678f06-835f-4e19-9e90-085e5aec1e00",
   "metadata": {},
   "outputs": [],
   "source": [
    "predictions = []\n",
    "for game_id in games_to_predict:\n",
    "    # Predict rating for user-item pair\n",
    "    # uid=target_user_id, iid=game_id\n",
    "    # The 'r_ui=1' is a placeholder true rating, it doesn't affect SVD prediction score itself\n",
    "    pred = svd_model.predict(uid=target_user_id, iid=game_id, verbose=False) \n",
    "    predictions.append(pred)"
   ]
  },
  {
   "cell_type": "code",
   "execution_count": 31,
   "id": "757c278f-98db-44fb-95c7-32e00b971e3e",
   "metadata": {},
   "outputs": [
    {
     "name": "stdout",
     "output_type": "stream",
     "text": [
      "\n",
      "Top 10 game recommendations for 76561198119605821:\n",
      "- Game: Ricochet, Predicted Score: 1.0000\n",
      "- Game: Iron Warriors: T - 72 Tank Command , Predicted Score: 1.0000\n",
      "- Game: Psychonauts, Predicted Score: 1.0000\n",
      "- Game: 688(I) Hunter/Killer, Predicted Score: 1.0000\n",
      "- Game: Garry's Mod, Predicted Score: 1.0000\n",
      "- Game: Hitman: Codename 47, Predicted Score: 1.0000\n",
      "- Game: Hitman 2: Silent Assassin, Predicted Score: 1.0000\n",
      "- Game: Hitman: Blood Money, Predicted Score: 1.0000\n",
      "- Game: Space Empires IV Deluxe, Predicted Score: 1.0000\n",
      "- Game: Space Empires V, Predicted Score: 1.0000\n"
     ]
    }
   ],
   "source": [
    "predictions.sort(key=lambda x: x.est, reverse=True)\n",
    "\n",
    "n_recommendations = 10\n",
    "\n",
    "top_n_recommendations = predictions[:n_recommendations]\n",
    "\n",
    "print(f\"\\nTop {n_recommendations} game recommendations for {target_user_id}:\")\n",
    "for pred in top_n_recommendations:\n",
    "    if str(pred.iid) in games_dict:\n",
    "      game_name = games_dict[pred.iid]\n",
    "    else:\n",
    "        game_name = \"error\"\n",
    "    print(f\"- Game: {pred.iid}, Predicted Score: {pred.est:.4f}\")"
   ]
  },
  {
   "cell_type": "code",
   "execution_count": null,
   "id": "2c60f180-c8cf-4e53-8e63-1469c3d4e888",
   "metadata": {},
   "outputs": [],
   "source": []
  },
  {
   "cell_type": "code",
   "execution_count": null,
   "id": "a6f5dd10-c976-4995-bb7c-8df7bc085d7d",
   "metadata": {},
   "outputs": [],
   "source": []
  },
  {
   "cell_type": "code",
   "execution_count": null,
   "id": "2504aad2-2d07-4df8-b940-ade57cac8831",
   "metadata": {},
   "outputs": [],
   "source": []
  }
 ],
 "metadata": {
  "kernelspec": {
   "display_name": "Python 3 (ipykernel)",
   "language": "python",
   "name": "python3"
  },
  "language_info": {
   "codemirror_mode": {
    "name": "ipython",
    "version": 3
   },
   "file_extension": ".py",
   "mimetype": "text/x-python",
   "name": "python",
   "nbconvert_exporter": "python",
   "pygments_lexer": "ipython3",
   "version": "3.11.0"
  }
 },
 "nbformat": 4,
 "nbformat_minor": 5
}
