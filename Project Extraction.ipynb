{
 "cells": [
  {
   "cell_type": "code",
   "execution_count": 15,
   "id": "42eb86e6-90ad-4832-9cf9-73bd44d435e7",
   "metadata": {},
   "outputs": [],
   "source": [
    "import pandas as pd\n",
    "from itertools import combinations\n",
    "from collections import Counter\n",
    "import ast "
   ]
  },
  {
   "cell_type": "code",
   "execution_count": 10,
   "id": "8edcd671-c861-41c1-ab47-bec1907a2293",
   "metadata": {},
   "outputs": [
    {
     "data": {
      "text/html": [
       "<div>\n",
       "<style scoped>\n",
       "    .dataframe tbody tr th:only-of-type {\n",
       "        vertical-align: middle;\n",
       "    }\n",
       "\n",
       "    .dataframe tbody tr th {\n",
       "        vertical-align: top;\n",
       "    }\n",
       "\n",
       "    .dataframe thead th {\n",
       "        text-align: right;\n",
       "    }\n",
       "</style>\n",
       "<table border=\"1\" class=\"dataframe\">\n",
       "  <thead>\n",
       "    <tr style=\"text-align: right;\">\n",
       "      <th></th>\n",
       "      <th>title</th>\n",
       "      <th>gameid</th>\n",
       "      <th>developers</th>\n",
       "      <th>publishers</th>\n",
       "      <th>genres</th>\n",
       "      <th>supported_languages</th>\n",
       "      <th>release_date</th>\n",
       "      <th>PS</th>\n",
       "      <th>Steam</th>\n",
       "      <th>xBox</th>\n",
       "    </tr>\n",
       "  </thead>\n",
       "  <tbody>\n",
       "    <tr>\n",
       "      <th>0</th>\n",
       "      <td>Fieldrunners 2</td>\n",
       "      <td>215710</td>\n",
       "      <td>['Subatomic Studios LLC']</td>\n",
       "      <td>['Subatomic Studios LLC']</td>\n",
       "      <td>['Action', 'Strategy', 'Casual']</td>\n",
       "      <td>['English']</td>\n",
       "      <td>2013-01-10</td>\n",
       "      <td>NaN</td>\n",
       "      <td>Yes</td>\n",
       "      <td>NaN</td>\n",
       "    </tr>\n",
       "    <tr>\n",
       "      <th>1</th>\n",
       "      <td>Goddess detective 2</td>\n",
       "      <td>2475270</td>\n",
       "      <td>['2024-NGame']</td>\n",
       "      <td>['2024-NGame']</td>\n",
       "      <td>['Indie']</td>\n",
       "      <td>['English', 'Russian', 'Simplified Chinese', '...</td>\n",
       "      <td>2023-08-31</td>\n",
       "      <td>NaN</td>\n",
       "      <td>Yes</td>\n",
       "      <td>NaN</td>\n",
       "    </tr>\n",
       "    <tr>\n",
       "      <th>2</th>\n",
       "      <td>Magic pal and great</td>\n",
       "      <td>3203600</td>\n",
       "      <td>['神奇伙伴与大圣']</td>\n",
       "      <td>['神奇伙伴与大圣']</td>\n",
       "      <td>['Action', 'Adventure', 'Casual', 'RPG']</td>\n",
       "      <td>['English', 'Simplified Chinese']</td>\n",
       "      <td>2024-10-19</td>\n",
       "      <td>NaN</td>\n",
       "      <td>Yes</td>\n",
       "      <td>NaN</td>\n",
       "    </tr>\n",
       "    <tr>\n",
       "      <th>3</th>\n",
       "      <td>Promise with My Sister</td>\n",
       "      <td>2843130</td>\n",
       "      <td>['Carnival Pepper']</td>\n",
       "      <td>['Carnival Pepper']</td>\n",
       "      <td>['Casual', 'Indie', 'RPG', 'Strategy']</td>\n",
       "      <td>['Japanese', 'Simplified Chinese', 'Traditiona...</td>\n",
       "      <td>2024-05-09</td>\n",
       "      <td>NaN</td>\n",
       "      <td>Yes</td>\n",
       "      <td>NaN</td>\n",
       "    </tr>\n",
       "    <tr>\n",
       "      <th>4</th>\n",
       "      <td>Sakura no Mori † Dreamers 2</td>\n",
       "      <td>983150</td>\n",
       "      <td>['MOONSTONE']</td>\n",
       "      <td>['HIKARI FIELD']</td>\n",
       "      <td>['Adventure']</td>\n",
       "      <td>['Simplified Chinese', 'Traditional Chinese']</td>\n",
       "      <td>2019-03-15</td>\n",
       "      <td>NaN</td>\n",
       "      <td>Yes</td>\n",
       "      <td>NaN</td>\n",
       "    </tr>\n",
       "  </tbody>\n",
       "</table>\n",
       "</div>"
      ],
      "text/plain": [
       "                          title   gameid                 developers  \\\n",
       "0                Fieldrunners 2   215710  ['Subatomic Studios LLC']   \n",
       "1           Goddess detective 2  2475270             ['2024-NGame']   \n",
       "2           Magic pal and great  3203600                ['神奇伙伴与大圣']   \n",
       "3        Promise with My Sister  2843130        ['Carnival Pepper']   \n",
       "4   Sakura no Mori † Dreamers 2   983150              ['MOONSTONE']   \n",
       "\n",
       "                  publishers                                    genres  \\\n",
       "0  ['Subatomic Studios LLC']          ['Action', 'Strategy', 'Casual']   \n",
       "1             ['2024-NGame']                                 ['Indie']   \n",
       "2                ['神奇伙伴与大圣']  ['Action', 'Adventure', 'Casual', 'RPG']   \n",
       "3        ['Carnival Pepper']    ['Casual', 'Indie', 'RPG', 'Strategy']   \n",
       "4           ['HIKARI FIELD']                             ['Adventure']   \n",
       "\n",
       "                                 supported_languages release_date   PS Steam  \\\n",
       "0                                        ['English']   2013-01-10  NaN   Yes   \n",
       "1  ['English', 'Russian', 'Simplified Chinese', '...   2023-08-31  NaN   Yes   \n",
       "2                  ['English', 'Simplified Chinese']   2024-10-19  NaN   Yes   \n",
       "3  ['Japanese', 'Simplified Chinese', 'Traditiona...   2024-05-09  NaN   Yes   \n",
       "4      ['Simplified Chinese', 'Traditional Chinese']   2019-03-15  NaN   Yes   \n",
       "\n",
       "  xBox  \n",
       "0  NaN  \n",
       "1  NaN  \n",
       "2  NaN  \n",
       "3  NaN  \n",
       "4  NaN  "
      ]
     },
     "execution_count": 10,
     "metadata": {},
     "output_type": "execute_result"
    }
   ],
   "source": [
    "data = pd.read_csv(\"games_full.csv\")\n",
    "data.head()"
   ]
  },
  {
   "cell_type": "code",
   "execution_count": 11,
   "id": "128e624a-79ff-4226-8fd5-b9c449a0a981",
   "metadata": {},
   "outputs": [
    {
     "data": {
      "text/html": [
       "<div>\n",
       "<style scoped>\n",
       "    .dataframe tbody tr th:only-of-type {\n",
       "        vertical-align: middle;\n",
       "    }\n",
       "\n",
       "    .dataframe tbody tr th {\n",
       "        vertical-align: top;\n",
       "    }\n",
       "\n",
       "    .dataframe thead th {\n",
       "        text-align: right;\n",
       "    }\n",
       "</style>\n",
       "<table border=\"1\" class=\"dataframe\">\n",
       "  <thead>\n",
       "    <tr style=\"text-align: right;\">\n",
       "      <th></th>\n",
       "      <th>playerid</th>\n",
       "      <th>library</th>\n",
       "    </tr>\n",
       "  </thead>\n",
       "  <tbody>\n",
       "    <tr>\n",
       "      <th>0</th>\n",
       "      <td>268071</td>\n",
       "      <td>[14972, 417905, 14693, 7742, 20162, 461983, 12...</td>\n",
       "    </tr>\n",
       "    <tr>\n",
       "      <th>1</th>\n",
       "      <td>2218485</td>\n",
       "      <td>[410618, 17456, 16034, 138931, 175202, 331007,...</td>\n",
       "    </tr>\n",
       "    <tr>\n",
       "      <th>2</th>\n",
       "      <td>253885</td>\n",
       "      <td>[417808, 706747, 619583, 492711, 555631, 18167...</td>\n",
       "    </tr>\n",
       "    <tr>\n",
       "      <th>3</th>\n",
       "      <td>1911732</td>\n",
       "      <td>[670209, 694794, 658551, 582894, 602666, 65531...</td>\n",
       "    </tr>\n",
       "    <tr>\n",
       "      <th>4</th>\n",
       "      <td>3098524</td>\n",
       "      <td>[19362, 170350, 12653, 20230, 12750, 18141, 41...</td>\n",
       "    </tr>\n",
       "  </tbody>\n",
       "</table>\n",
       "</div>"
      ],
      "text/plain": [
       "   playerid                                            library\n",
       "0    268071  [14972, 417905, 14693, 7742, 20162, 461983, 12...\n",
       "1   2218485  [410618, 17456, 16034, 138931, 175202, 331007,...\n",
       "2    253885  [417808, 706747, 619583, 492711, 555631, 18167...\n",
       "3   1911732  [670209, 694794, 658551, 582894, 602666, 65531...\n",
       "4   3098524  [19362, 170350, 12653, 20230, 12750, 18141, 41..."
      ]
     },
     "execution_count": 11,
     "metadata": {},
     "output_type": "execute_result"
    }
   ],
   "source": [
    "df = pd.read_csv('PSpurchased_games.csv')\n",
    "df.head()"
   ]
  },
  {
   "cell_type": "code",
   "execution_count": 16,
   "id": "6dee65ce-a7fa-4ea5-95f2-b2494bc73888",
   "metadata": {},
   "outputs": [
    {
     "name": "stdout",
     "output_type": "stream",
     "text": [
      "    game1   game2  pair_count  pair_percentage\n",
      "0    7779    9459       24282         0.790404\n",
      "1   16508  137118       22522         0.847616\n",
      "2    7779  333860       22034         0.717229\n",
      "3    9459  333860       21715         0.726254\n",
      "4  137118  163258       21281         0.739771\n"
     ]
    }
   ],
   "source": [
    "# convert stringified lists to actual lists\n",
    "df['library'] = df['library'].apply(ast.literal_eval)\n",
    "\n",
    "# compute game pair occurrences\n",
    "pair_counts = Counter()\n",
    "\n",
    "for games in df['library']:\n",
    "    if isinstance(games, list) and len(games) > 1:\n",
    "        for game1, game2 in combinations(sorted(games), 2):\n",
    "            pair_counts[(game1, game2)] += 1\n",
    "\n",
    "# create df\n",
    "pair_df = pd.DataFrame([(g1, g2, count) for (g1, g2), count in pair_counts.items()],\n",
    "                       columns=['game1', 'game2', 'pair_count'])\n",
    "\n",
    "# calculate total occurrences of each game\n",
    "game_counts = df['library'].explode().astype(int).value_counts().to_dict()\n",
    "\n",
    "# calculate pair percentage\n",
    "def calc_percentage(row):\n",
    "    game1_count = game_counts.get(row['game1'], 0)\n",
    "    return row['pair_count'] / game1_count if game1_count > 0 else 0\n",
    "\n",
    "pair_df['pair_percentage'] = pair_df.apply(calc_percentage, axis=1)\n",
    "\n",
    "# Sort by pair_count\n",
    "pair_df = pair_df.sort_values('pair_count', ascending=False).reset_index(drop=True)\n",
    "\n",
    "print(pair_df.head())"
   ]
  },
  {
   "cell_type": "code",
   "execution_count": 18,
   "id": "cdcc9706-807b-4675-8a47-610ab5ae53cb",
   "metadata": {},
   "outputs": [
    {
     "data": {
      "text/plain": [
       "(239325533, 4)"
      ]
     },
     "execution_count": 18,
     "metadata": {},
     "output_type": "execute_result"
    }
   ],
   "source": [
    "pair_df.shape"
   ]
  },
  {
   "cell_type": "code",
   "execution_count": null,
   "id": "18553b0a-0a0d-4dfb-90ab-9f24d41cf688",
   "metadata": {},
   "outputs": [],
   "source": []
  }
 ],
 "metadata": {
  "kernelspec": {
   "display_name": "Python 3 (ipykernel)",
   "language": "python",
   "name": "python3"
  },
  "language_info": {
   "codemirror_mode": {
    "name": "ipython",
    "version": 3
   },
   "file_extension": ".py",
   "mimetype": "text/x-python",
   "name": "python",
   "nbconvert_exporter": "python",
   "pygments_lexer": "ipython3",
   "version": "3.9.7"
  }
 },
 "nbformat": 4,
 "nbformat_minor": 5
}
