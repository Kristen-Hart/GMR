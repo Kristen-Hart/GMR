{
 "cells": [
  {
   "cell_type": "code",
   "execution_count": 78,
   "id": "ebd01ec6",
   "metadata": {},
   "outputs": [],
   "source": [
    "import pandas as pd\n",
    "import ipywidgets as widgets\n",
    "from IPython.display import display, clear_output\n",
    "from sklearn.feature_extraction.text import TfidfVectorizer\n",
    "from sklearn.naive_bayes import MultinomialNB\n",
    "from datetime import datetime\n",
    "from sklearn.preprocessing import StandardScaler"
   ]
  },
  {
   "cell_type": "code",
   "execution_count": 79,
   "id": "006da79a",
   "metadata": {},
   "outputs": [],
   "source": [
    "# === LOAD & PREP DATA ===\n",
    "games = pd.read_csv(\"games_full.csv\")\n",
    "games = games.dropna(subset=['title'])\n",
    "all_titles = sorted(games['title'].drop_duplicates().tolist())\n",
    "games_cluster_new = games"
   ]
  },
  {
   "cell_type": "code",
   "execution_count": 80,
   "id": "8f4c1bf3",
   "metadata": {},
   "outputs": [],
   "source": [
    "# Fill missing categorical values with \"Unknown\" on dev, pub and genres\n",
    "games_cluster_new['developers'] = games_cluster_new['developers'].fillna('Unknown_dev')\n",
    "games_cluster_new['publishers'] = games_cluster_new['publishers'].fillna('Unknown_pub')\n",
    "games_cluster_new['genres'] = games_cluster_new['genres'].fillna('Unknown_gen')\n",
    "PS_Box_drop = ['PS', 'xBox']  \n",
    "games_cluster_new = games_cluster_new.drop(columns=PS_Box_drop)"
   ]
  },
  {
   "cell_type": "code",
   "execution_count": 81,
   "id": "6c6de3b4",
   "metadata": {},
   "outputs": [
    {
     "data": {
      "text/html": [
       "<div>\n",
       "<style scoped>\n",
       "    .dataframe tbody tr th:only-of-type {\n",
       "        vertical-align: middle;\n",
       "    }\n",
       "\n",
       "    .dataframe tbody tr th {\n",
       "        vertical-align: top;\n",
       "    }\n",
       "\n",
       "    .dataframe thead th {\n",
       "        text-align: right;\n",
       "    }\n",
       "</style>\n",
       "<table border=\"1\" class=\"dataframe\">\n",
       "  <thead>\n",
       "    <tr style=\"text-align: right;\">\n",
       "      <th></th>\n",
       "      <th>title</th>\n",
       "      <th>gameid</th>\n",
       "      <th>developers</th>\n",
       "      <th>publishers</th>\n",
       "      <th>genres</th>\n",
       "      <th>supported_languages</th>\n",
       "      <th>release_date</th>\n",
       "      <th>Steam</th>\n",
       "    </tr>\n",
       "  </thead>\n",
       "  <tbody>\n",
       "    <tr>\n",
       "      <th>0</th>\n",
       "      <td>Fieldrunners 2</td>\n",
       "      <td>215710</td>\n",
       "      <td>['Subatomic Studios LLC']</td>\n",
       "      <td>['Subatomic Studios LLC']</td>\n",
       "      <td>['Action', 'Strategy', 'Casual']</td>\n",
       "      <td>['English']</td>\n",
       "      <td>2013-01-10</td>\n",
       "      <td>Yes</td>\n",
       "    </tr>\n",
       "    <tr>\n",
       "      <th>1</th>\n",
       "      <td>Goddess detective 2</td>\n",
       "      <td>2475270</td>\n",
       "      <td>['2024-NGame']</td>\n",
       "      <td>['2024-NGame']</td>\n",
       "      <td>['Indie']</td>\n",
       "      <td>['English', 'Russian', 'Simplified Chinese', '...</td>\n",
       "      <td>2023-08-31</td>\n",
       "      <td>Yes</td>\n",
       "    </tr>\n",
       "    <tr>\n",
       "      <th>2</th>\n",
       "      <td>Magic pal and great</td>\n",
       "      <td>3203600</td>\n",
       "      <td>['神奇伙伴与大圣']</td>\n",
       "      <td>['神奇伙伴与大圣']</td>\n",
       "      <td>['Action', 'Adventure', 'Casual', 'RPG']</td>\n",
       "      <td>['English', 'Simplified Chinese']</td>\n",
       "      <td>2024-10-19</td>\n",
       "      <td>Yes</td>\n",
       "    </tr>\n",
       "    <tr>\n",
       "      <th>3</th>\n",
       "      <td>Promise with My Sister</td>\n",
       "      <td>2843130</td>\n",
       "      <td>['Carnival Pepper']</td>\n",
       "      <td>['Carnival Pepper']</td>\n",
       "      <td>['Casual', 'Indie', 'RPG', 'Strategy']</td>\n",
       "      <td>['Japanese', 'Simplified Chinese', 'Traditiona...</td>\n",
       "      <td>2024-05-09</td>\n",
       "      <td>Yes</td>\n",
       "    </tr>\n",
       "    <tr>\n",
       "      <th>4</th>\n",
       "      <td>Wanba Warriors</td>\n",
       "      <td>1021770</td>\n",
       "      <td>['Wanba Studio']</td>\n",
       "      <td>['Wanba Studio']</td>\n",
       "      <td>['Action', 'Indie']</td>\n",
       "      <td>['English', 'Simplified Chinese', 'Japanese', ...</td>\n",
       "      <td>2020-03-25</td>\n",
       "      <td>Yes</td>\n",
       "    </tr>\n",
       "  </tbody>\n",
       "</table>\n",
       "</div>"
      ],
      "text/plain": [
       "                     title   gameid                 developers  \\\n",
       "0           Fieldrunners 2   215710  ['Subatomic Studios LLC']   \n",
       "1      Goddess detective 2  2475270             ['2024-NGame']   \n",
       "2      Magic pal and great  3203600                ['神奇伙伴与大圣']   \n",
       "3   Promise with My Sister  2843130        ['Carnival Pepper']   \n",
       "4           Wanba Warriors  1021770           ['Wanba Studio']   \n",
       "\n",
       "                  publishers                                    genres  \\\n",
       "0  ['Subatomic Studios LLC']          ['Action', 'Strategy', 'Casual']   \n",
       "1             ['2024-NGame']                                 ['Indie']   \n",
       "2                ['神奇伙伴与大圣']  ['Action', 'Adventure', 'Casual', 'RPG']   \n",
       "3        ['Carnival Pepper']    ['Casual', 'Indie', 'RPG', 'Strategy']   \n",
       "4           ['Wanba Studio']                       ['Action', 'Indie']   \n",
       "\n",
       "                                 supported_languages release_date Steam  \n",
       "0                                        ['English']   2013-01-10   Yes  \n",
       "1  ['English', 'Russian', 'Simplified Chinese', '...   2023-08-31   Yes  \n",
       "2                  ['English', 'Simplified Chinese']   2024-10-19   Yes  \n",
       "3  ['Japanese', 'Simplified Chinese', 'Traditiona...   2024-05-09   Yes  \n",
       "4  ['English', 'Simplified Chinese', 'Japanese', ...   2020-03-25   Yes  "
      ]
     },
     "execution_count": 81,
     "metadata": {},
     "output_type": "execute_result"
    }
   ],
   "source": [
    "games_cluster_new.head()"
   ]
  },
  {
   "cell_type": "code",
   "execution_count": 82,
   "id": "1b662079",
   "metadata": {},
   "outputs": [],
   "source": [
    "# Replace NaN values on Steam cols with the most frequent value of Yes (1)\n",
    "if games_cluster_new['Steam'].isnull().sum() > 0:  \n",
    "    most_frequent_value = games_cluster_new['Steam'].mode()[0] \n",
    "    games_cluster_new['Steam'].fillna(most_frequent_value, inplace=True)"
   ]
  },
  {
   "cell_type": "code",
   "execution_count": 83,
   "id": "9aac99fa",
   "metadata": {},
   "outputs": [],
   "source": [
    "# changing Steam value to binary\n",
    "binary_features = ['Steam']\n",
    "for feature in binary_features:\n",
    "    games_cluster_new[feature] = games_cluster_new[feature].map({'Yes': 1, 'No': 0})"
   ]
  },
  {
   "cell_type": "code",
   "execution_count": 84,
   "id": "d34d20fb",
   "metadata": {},
   "outputs": [],
   "source": [
    "# Ensure release_date is in datetime format\n",
    "games_cluster_new['release_date'] = pd.to_datetime(games_cluster_new['release_date'], errors='coerce')\n",
    "\n",
    "# reference date beginning of the Unix Epoch time and calculating days in b/n \n",
    "ref_date = datetime(1970, 1, 1)\n",
    "games_cluster_new['days_since_release'] = (games_cluster_new['release_date'] - ref_date).dt.days\n",
    "games_cluster_new = games_cluster_new.dropna(subset=['days_since_release'])\n",
    "games_cluster_new = games_cluster_new.drop('release_date', axis=1)\n",
    "# Scaling \n",
    "scaler = StandardScaler()\n",
    "games_cluster_new['release_year_scaled'] = scaler.fit_transform(games_cluster_new[['days_since_release']])"
   ]
  },
  {
   "cell_type": "code",
   "execution_count": 85,
   "id": "739dc7ea",
   "metadata": {},
   "outputs": [],
   "source": [
    "# drop days_since_release\n",
    "games_cluster_new = games_cluster_new.drop('days_since_release', axis=1)"
   ]
  },
  {
   "cell_type": "code",
   "execution_count": 86,
   "id": "c145ccc3",
   "metadata": {},
   "outputs": [
    {
     "data": {
      "text/html": [
       "<div>\n",
       "<style scoped>\n",
       "    .dataframe tbody tr th:only-of-type {\n",
       "        vertical-align: middle;\n",
       "    }\n",
       "\n",
       "    .dataframe tbody tr th {\n",
       "        vertical-align: top;\n",
       "    }\n",
       "\n",
       "    .dataframe thead th {\n",
       "        text-align: right;\n",
       "    }\n",
       "</style>\n",
       "<table border=\"1\" class=\"dataframe\">\n",
       "  <thead>\n",
       "    <tr style=\"text-align: right;\">\n",
       "      <th></th>\n",
       "      <th>title</th>\n",
       "      <th>gameid</th>\n",
       "      <th>developers</th>\n",
       "      <th>publishers</th>\n",
       "      <th>genres</th>\n",
       "      <th>supported_languages</th>\n",
       "      <th>Steam</th>\n",
       "      <th>release_year_scaled</th>\n",
       "    </tr>\n",
       "  </thead>\n",
       "  <tbody>\n",
       "    <tr>\n",
       "      <th>0</th>\n",
       "      <td>Fieldrunners 2</td>\n",
       "      <td>215710</td>\n",
       "      <td>['Subatomic Studios LLC']</td>\n",
       "      <td>['Subatomic Studios LLC']</td>\n",
       "      <td>['Action', 'Strategy', 'Casual']</td>\n",
       "      <td>['English']</td>\n",
       "      <td>1</td>\n",
       "      <td>-2.585753</td>\n",
       "    </tr>\n",
       "    <tr>\n",
       "      <th>1</th>\n",
       "      <td>Goddess detective 2</td>\n",
       "      <td>2475270</td>\n",
       "      <td>['2024-NGame']</td>\n",
       "      <td>['2024-NGame']</td>\n",
       "      <td>['Indie']</td>\n",
       "      <td>['English', 'Russian', 'Simplified Chinese', '...</td>\n",
       "      <td>1</td>\n",
       "      <td>0.848105</td>\n",
       "    </tr>\n",
       "    <tr>\n",
       "      <th>2</th>\n",
       "      <td>Magic pal and great</td>\n",
       "      <td>3203600</td>\n",
       "      <td>['神奇伙伴与大圣']</td>\n",
       "      <td>['神奇伙伴与大圣']</td>\n",
       "      <td>['Action', 'Adventure', 'Casual', 'RPG']</td>\n",
       "      <td>['English', 'Simplified Chinese']</td>\n",
       "      <td>1</td>\n",
       "      <td>1.214914</td>\n",
       "    </tr>\n",
       "    <tr>\n",
       "      <th>3</th>\n",
       "      <td>Promise with My Sister</td>\n",
       "      <td>2843130</td>\n",
       "      <td>['Carnival Pepper']</td>\n",
       "      <td>['Carnival Pepper']</td>\n",
       "      <td>['Casual', 'Indie', 'RPG', 'Strategy']</td>\n",
       "      <td>['Japanese', 'Simplified Chinese', 'Traditiona...</td>\n",
       "      <td>1</td>\n",
       "      <td>1.070842</td>\n",
       "    </tr>\n",
       "    <tr>\n",
       "      <th>4</th>\n",
       "      <td>Wanba Warriors</td>\n",
       "      <td>1021770</td>\n",
       "      <td>['Wanba Studio']</td>\n",
       "      <td>['Wanba Studio']</td>\n",
       "      <td>['Action', 'Indie']</td>\n",
       "      <td>['English', 'Simplified Chinese', 'Japanese', ...</td>\n",
       "      <td>1</td>\n",
       "      <td>-0.260275</td>\n",
       "    </tr>\n",
       "  </tbody>\n",
       "</table>\n",
       "</div>"
      ],
      "text/plain": [
       "                     title   gameid                 developers  \\\n",
       "0           Fieldrunners 2   215710  ['Subatomic Studios LLC']   \n",
       "1      Goddess detective 2  2475270             ['2024-NGame']   \n",
       "2      Magic pal and great  3203600                ['神奇伙伴与大圣']   \n",
       "3   Promise with My Sister  2843130        ['Carnival Pepper']   \n",
       "4           Wanba Warriors  1021770           ['Wanba Studio']   \n",
       "\n",
       "                  publishers                                    genres  \\\n",
       "0  ['Subatomic Studios LLC']          ['Action', 'Strategy', 'Casual']   \n",
       "1             ['2024-NGame']                                 ['Indie']   \n",
       "2                ['神奇伙伴与大圣']  ['Action', 'Adventure', 'Casual', 'RPG']   \n",
       "3        ['Carnival Pepper']    ['Casual', 'Indie', 'RPG', 'Strategy']   \n",
       "4           ['Wanba Studio']                       ['Action', 'Indie']   \n",
       "\n",
       "                                 supported_languages  Steam  \\\n",
       "0                                        ['English']      1   \n",
       "1  ['English', 'Russian', 'Simplified Chinese', '...      1   \n",
       "2                  ['English', 'Simplified Chinese']      1   \n",
       "3  ['Japanese', 'Simplified Chinese', 'Traditiona...      1   \n",
       "4  ['English', 'Simplified Chinese', 'Japanese', ...      1   \n",
       "\n",
       "   release_year_scaled  \n",
       "0            -2.585753  \n",
       "1             0.848105  \n",
       "2             1.214914  \n",
       "3             1.070842  \n",
       "4            -0.260275  "
      ]
     },
     "execution_count": 86,
     "metadata": {},
     "output_type": "execute_result"
    }
   ],
   "source": [
    "games_cluster_new.head()"
   ]
  },
  {
   "cell_type": "code",
   "execution_count": 87,
   "id": "08a3e2f6",
   "metadata": {},
   "outputs": [
    {
     "name": "stdout",
     "output_type": "stream",
     "text": [
      "Number of unique genres: 2861\n",
      "Unique genres: [\"['Action', 'Strategy', 'Casual']\" \"['Indie']\"\n",
      " \"['Action', 'Adventure', 'Casual', 'RPG']\" ...\n",
      " \"['Action', 'Adventure', 'Indie', 'Racing', 'RPG', 'Early Access']\"\n",
      " \"['Casual', 'Free To Play', 'Indie', 'Racing', 'Simulation', 'Sports', 'Strategy']\"\n",
      " \"['Indie', 'Racing', 'Game Development']\"]\n"
     ]
    }
   ],
   "source": [
    "# Count the number of unique genres with List of unique genres\n",
    "unique_genres_count = games_cluster_new['genres'].nunique()\n",
    "print(f\"Number of unique genres: {unique_genres_count}\")\n",
    "unique_gen = games_cluster_new['genres'].unique()\n",
    "print(f\"Unique genres: {unique_gen}\")\n"
   ]
  },
  {
   "cell_type": "code",
   "execution_count": 88,
   "id": "ea3ef8ad",
   "metadata": {},
   "outputs": [
    {
     "name": "stdout",
     "output_type": "stream",
     "text": [
      "Unique genres: [\"['Subatomic Studios LLC']\" \"['2024-NGame']\" \"['神奇伙伴与大圣']\" ... \"['绝汪']\"\n",
      " \"['Jeroen Wimmers']\" \"['Nuclear Tales']\"]\n",
      "Number of unique developers: 52683\n"
     ]
    }
   ],
   "source": [
    "# List the unique developers with no of unique devs\n",
    "unique_devs = games_cluster_new['developers'].unique()\n",
    "print(f\"Unique genres: {unique_devs}\")\n",
    "num_unique_devs = games_cluster_new['developers'].nunique()\n",
    "print(f\"Number of unique developers: {num_unique_devs}\")"
   ]
  },
  {
   "cell_type": "code",
   "execution_count": 89,
   "id": "291dc862",
   "metadata": {},
   "outputs": [
    {
     "name": "stdout",
     "output_type": "stream",
     "text": [
      "Updated genres top 100 genres:\n",
      "0                                    Other\n",
      "1                                ['Indie']\n",
      "2                                    Other\n",
      "3                                    Other\n",
      "4                      ['Action', 'Indie']\n",
      "                       ...                \n",
      "82266                                Other\n",
      "82267                  ['Action', 'Indie']\n",
      "82268                  ['Casual', 'Indie']\n",
      "82269    ['Action', 'Indie', 'Simulation']\n",
      "82270                                Other\n",
      "Name: genres, Length: 82271, dtype: object\n"
     ]
    }
   ],
   "source": [
    "## Top 100 genres and then replace the less frequent with other. \n",
    "## this help to reduce high cardinality of unique genres: 2861 to focus on top 100 genres\n",
    "genre_counts = games_cluster_new['genres'].value_counts()\n",
    "top_100_genres = genre_counts.nlargest(100).index \n",
    "games_cluster_new['genres'] = games_cluster_new['genres'].apply(lambda x: x if x in top_100_genres else 'Other')\n",
    "\n",
    "print(\"Updated genres top 100 genres:\")\n",
    "print(games_cluster_new['genres'])"
   ]
  },
  {
   "cell_type": "code",
   "execution_count": 90,
   "id": "4294fb96",
   "metadata": {},
   "outputs": [],
   "source": [
    "## Highly Correlated Features: developers and publishers overlap significantly. Developers only reatained.\n",
    "## No variance on steam all list of games almost are from steam category (dropped).\n",
    "## Text columns are generally unsuitable unless transformed into numerical representations \n",
    "## (title, gameid will add back after clustering)\n",
    "## supported_languages filterd based on frequent 10 value and repalced the rest of the remaining rows"
   ]
  },
  {
   "cell_type": "code",
   "execution_count": 91,
   "id": "c3033712",
   "metadata": {},
   "outputs": [],
   "source": [
    "cols_to_drop = ['title','gameid','publishers','Steam','supported_languages']\n",
    "games_cluster_dropped = games_cluster_new.drop(columns = cols_to_drop, axis=1)\n"
   ]
  },
  {
   "cell_type": "code",
   "execution_count": 92,
   "id": "4c980102",
   "metadata": {},
   "outputs": [
    {
     "data": {
      "text/html": [
       "<div>\n",
       "<style scoped>\n",
       "    .dataframe tbody tr th:only-of-type {\n",
       "        vertical-align: middle;\n",
       "    }\n",
       "\n",
       "    .dataframe tbody tr th {\n",
       "        vertical-align: top;\n",
       "    }\n",
       "\n",
       "    .dataframe thead th {\n",
       "        text-align: right;\n",
       "    }\n",
       "</style>\n",
       "<table border=\"1\" class=\"dataframe\">\n",
       "  <thead>\n",
       "    <tr style=\"text-align: right;\">\n",
       "      <th></th>\n",
       "      <th>developers</th>\n",
       "      <th>genres</th>\n",
       "      <th>release_year_scaled</th>\n",
       "    </tr>\n",
       "  </thead>\n",
       "  <tbody>\n",
       "    <tr>\n",
       "      <th>0</th>\n",
       "      <td>['Subatomic Studios LLC']</td>\n",
       "      <td>Other</td>\n",
       "      <td>-2.585753</td>\n",
       "    </tr>\n",
       "    <tr>\n",
       "      <th>1</th>\n",
       "      <td>['2024-NGame']</td>\n",
       "      <td>['Indie']</td>\n",
       "      <td>0.848105</td>\n",
       "    </tr>\n",
       "    <tr>\n",
       "      <th>2</th>\n",
       "      <td>['神奇伙伴与大圣']</td>\n",
       "      <td>Other</td>\n",
       "      <td>1.214914</td>\n",
       "    </tr>\n",
       "    <tr>\n",
       "      <th>3</th>\n",
       "      <td>['Carnival Pepper']</td>\n",
       "      <td>Other</td>\n",
       "      <td>1.070842</td>\n",
       "    </tr>\n",
       "    <tr>\n",
       "      <th>4</th>\n",
       "      <td>['Wanba Studio']</td>\n",
       "      <td>['Action', 'Indie']</td>\n",
       "      <td>-0.260275</td>\n",
       "    </tr>\n",
       "  </tbody>\n",
       "</table>\n",
       "</div>"
      ],
      "text/plain": [
       "                  developers               genres  release_year_scaled\n",
       "0  ['Subatomic Studios LLC']                Other            -2.585753\n",
       "1             ['2024-NGame']            ['Indie']             0.848105\n",
       "2                ['神奇伙伴与大圣']                Other             1.214914\n",
       "3        ['Carnival Pepper']                Other             1.070842\n",
       "4           ['Wanba Studio']  ['Action', 'Indie']            -0.260275"
      ]
     },
     "execution_count": 92,
     "metadata": {},
     "output_type": "execute_result"
    }
   ],
   "source": [
    "games_cluster_dropped.head()"
   ]
  },
  {
   "cell_type": "code",
   "execution_count": 93,
   "id": "3e91f11e",
   "metadata": {},
   "outputs": [
    {
     "data": {
      "text/html": [
       "<div>\n",
       "<style scoped>\n",
       "    .dataframe tbody tr th:only-of-type {\n",
       "        vertical-align: middle;\n",
       "    }\n",
       "\n",
       "    .dataframe tbody tr th {\n",
       "        vertical-align: top;\n",
       "    }\n",
       "\n",
       "    .dataframe thead th {\n",
       "        text-align: right;\n",
       "    }\n",
       "</style>\n",
       "<table border=\"1\" class=\"dataframe\">\n",
       "  <thead>\n",
       "    <tr style=\"text-align: right;\">\n",
       "      <th></th>\n",
       "      <th>developers</th>\n",
       "      <th>genres</th>\n",
       "      <th>release_year_scaled</th>\n",
       "    </tr>\n",
       "  </thead>\n",
       "  <tbody>\n",
       "    <tr>\n",
       "      <th>0</th>\n",
       "      <td>['Subatomic Studios LLC']</td>\n",
       "      <td>Other</td>\n",
       "      <td>-2.585753</td>\n",
       "    </tr>\n",
       "    <tr>\n",
       "      <th>1</th>\n",
       "      <td>['2024-NGame']</td>\n",
       "      <td>['Indie']</td>\n",
       "      <td>0.848105</td>\n",
       "    </tr>\n",
       "    <tr>\n",
       "      <th>2</th>\n",
       "      <td>['神奇伙伴与大圣']</td>\n",
       "      <td>Other</td>\n",
       "      <td>1.214914</td>\n",
       "    </tr>\n",
       "    <tr>\n",
       "      <th>3</th>\n",
       "      <td>['Carnival Pepper']</td>\n",
       "      <td>Other</td>\n",
       "      <td>1.070842</td>\n",
       "    </tr>\n",
       "    <tr>\n",
       "      <th>4</th>\n",
       "      <td>['Wanba Studio']</td>\n",
       "      <td>['Action', 'Indie']</td>\n",
       "      <td>-0.260275</td>\n",
       "    </tr>\n",
       "    <tr>\n",
       "      <th>...</th>\n",
       "      <td>...</td>\n",
       "      <td>...</td>\n",
       "      <td>...</td>\n",
       "    </tr>\n",
       "    <tr>\n",
       "      <th>82266</th>\n",
       "      <td>['绝汪']</td>\n",
       "      <td>Other</td>\n",
       "      <td>1.225520</td>\n",
       "    </tr>\n",
       "    <tr>\n",
       "      <th>82267</th>\n",
       "      <td>['Ultimo Games']</td>\n",
       "      <td>['Action', 'Indie']</td>\n",
       "      <td>-0.501574</td>\n",
       "    </tr>\n",
       "    <tr>\n",
       "      <th>82268</th>\n",
       "      <td>['Jeroen Wimmers']</td>\n",
       "      <td>['Casual', 'Indie']</td>\n",
       "      <td>-1.260823</td>\n",
       "    </tr>\n",
       "    <tr>\n",
       "      <th>82269</th>\n",
       "      <td>['2nd Studio']</td>\n",
       "      <td>['Action', 'Indie', 'Simulation']</td>\n",
       "      <td>-0.699562</td>\n",
       "    </tr>\n",
       "    <tr>\n",
       "      <th>82270</th>\n",
       "      <td>['Nuclear Tales']</td>\n",
       "      <td>Other</td>\n",
       "      <td>-0.803859</td>\n",
       "    </tr>\n",
       "  </tbody>\n",
       "</table>\n",
       "<p>82271 rows × 3 columns</p>\n",
       "</div>"
      ],
      "text/plain": [
       "                      developers                             genres  \\\n",
       "0      ['Subatomic Studios LLC']                              Other   \n",
       "1                 ['2024-NGame']                          ['Indie']   \n",
       "2                    ['神奇伙伴与大圣']                              Other   \n",
       "3            ['Carnival Pepper']                              Other   \n",
       "4               ['Wanba Studio']                ['Action', 'Indie']   \n",
       "...                          ...                                ...   \n",
       "82266                     ['绝汪']                              Other   \n",
       "82267           ['Ultimo Games']                ['Action', 'Indie']   \n",
       "82268         ['Jeroen Wimmers']                ['Casual', 'Indie']   \n",
       "82269             ['2nd Studio']  ['Action', 'Indie', 'Simulation']   \n",
       "82270          ['Nuclear Tales']                              Other   \n",
       "\n",
       "       release_year_scaled  \n",
       "0                -2.585753  \n",
       "1                 0.848105  \n",
       "2                 1.214914  \n",
       "3                 1.070842  \n",
       "4                -0.260275  \n",
       "...                    ...  \n",
       "82266             1.225520  \n",
       "82267            -0.501574  \n",
       "82268            -1.260823  \n",
       "82269            -0.699562  \n",
       "82270            -0.803859  \n",
       "\n",
       "[82271 rows x 3 columns]"
      ]
     },
     "execution_count": 93,
     "metadata": {},
     "output_type": "execute_result"
    }
   ],
   "source": [
    "games_cluster_dropped"
   ]
  },
  {
   "cell_type": "code",
   "execution_count": 121,
   "id": "ffe3b404",
   "metadata": {},
   "outputs": [
    {
     "name": "stdout",
     "output_type": "stream",
     "text": [
      "beyond_100                      77632\n",
      "['Choice of Games']               165\n",
      "['Laush Dmitriy Sergeevich']      137\n",
      "['Boogygames Studios']            132\n",
      "Unknown_dev                       131\n",
      "                                ...  \n",
      "['Cute Pen Games']                 25\n",
      "['Vidas Salavejus']                24\n",
      "['Quarlellle']                     24\n",
      "['Loolust']                        24\n",
      "['Suricate Software']              24\n",
      "Name: developers, Length: 100, dtype: int64\n"
     ]
    }
   ],
   "source": [
    "## Top 100 developers and then replace the less frequent with beyond_100\n",
    "## (to reduce high dimentionality | very high cardinality results memory run out)\n",
    "dev_counts = games_cluster_new['developers'].value_counts()\n",
    "top_100_dev = dev_counts.nlargest(100).index \n",
    "games_cluster_new['developers'] = games_cluster_new['developers'].apply(lambda x: x if x in top_100_dev else 'beyond_100')\n",
    "\n",
    "print(games_cluster_new['developers'].value_counts())\n"
   ]
  },
  {
   "cell_type": "code",
   "execution_count": 95,
   "id": "47bb55a4",
   "metadata": {},
   "outputs": [
    {
     "data": {
      "text/html": [
       "<div>\n",
       "<style scoped>\n",
       "    .dataframe tbody tr th:only-of-type {\n",
       "        vertical-align: middle;\n",
       "    }\n",
       "\n",
       "    .dataframe tbody tr th {\n",
       "        vertical-align: top;\n",
       "    }\n",
       "\n",
       "    .dataframe thead th {\n",
       "        text-align: right;\n",
       "    }\n",
       "</style>\n",
       "<table border=\"1\" class=\"dataframe\">\n",
       "  <thead>\n",
       "    <tr style=\"text-align: right;\">\n",
       "      <th></th>\n",
       "      <th>title</th>\n",
       "      <th>gameid</th>\n",
       "      <th>developers</th>\n",
       "      <th>publishers</th>\n",
       "      <th>genres</th>\n",
       "      <th>supported_languages</th>\n",
       "      <th>Steam</th>\n",
       "      <th>release_year_scaled</th>\n",
       "    </tr>\n",
       "  </thead>\n",
       "  <tbody>\n",
       "    <tr>\n",
       "      <th>46</th>\n",
       "      <td>- Am I kind-hearted? - ワタシのココロは綺麗ですか？</td>\n",
       "      <td>2050840</td>\n",
       "      <td>['CyberStep, Inc.', 'Rideon Works Co. Ltd,']</td>\n",
       "      <td>['CyberStep, Inc.']</td>\n",
       "      <td>['Adventure']</td>\n",
       "      <td>['English', 'French', 'Italian', 'German', 'Sp...</td>\n",
       "      <td>1</td>\n",
       "      <td>0.488368</td>\n",
       "    </tr>\n",
       "    <tr>\n",
       "      <th>48</th>\n",
       "      <td>- Doki Doki Family - 特異体質者のドキドキ家族生活</td>\n",
       "      <td>1961860</td>\n",
       "      <td>['CyberStep, Inc.', 'Rideon Works Co. Ltd,']</td>\n",
       "      <td>['CyberStep, Inc.']</td>\n",
       "      <td>['Simulation']</td>\n",
       "      <td>['English', 'Italian', 'Spanish - Spain', 'Dut...</td>\n",
       "      <td>1</td>\n",
       "      <td>0.438871</td>\n",
       "    </tr>\n",
       "    <tr>\n",
       "      <th>49</th>\n",
       "      <td>- Mischief Dungeon Life - 異世界転生した俺のイタズラダンジョンライフ</td>\n",
       "      <td>1961870</td>\n",
       "      <td>['CyberStep, Inc.', 'Rideon Works Co. Ltd,']</td>\n",
       "      <td>['CyberStep, Inc.']</td>\n",
       "      <td>['Simulation']</td>\n",
       "      <td>['English', 'Italian', 'Spanish - Spain', 'Dut...</td>\n",
       "      <td>1</td>\n",
       "      <td>0.438871</td>\n",
       "    </tr>\n",
       "    <tr>\n",
       "      <th>50</th>\n",
       "      <td>- Mischief Dungeon Life - 異世界転生した俺のイタズラダンジョンライ...</td>\n",
       "      <td>2184390</td>\n",
       "      <td>['CyberStep, Inc.', 'Rideon Works Co. Ltd,']</td>\n",
       "      <td>['CyberStep, Inc.']</td>\n",
       "      <td>['Adventure']</td>\n",
       "      <td>['English', 'Italian', 'Spanish - Spain', 'Dut...</td>\n",
       "      <td>1</td>\n",
       "      <td>0.599736</td>\n",
       "    </tr>\n",
       "    <tr>\n",
       "      <th>51</th>\n",
       "      <td>- Mischief Dungeon Life - 異世界転生した俺のイタズラダンジョンライ...</td>\n",
       "      <td>2184420</td>\n",
       "      <td>['CyberStep, Inc.', 'Rideon Works Co. Ltd,']</td>\n",
       "      <td>[' CyberStep, Inc.']</td>\n",
       "      <td>['Adventure']</td>\n",
       "      <td>['English', 'Italian', 'Spanish - Spain', 'Dut...</td>\n",
       "      <td>1</td>\n",
       "      <td>0.599736</td>\n",
       "    </tr>\n",
       "  </tbody>\n",
       "</table>\n",
       "</div>"
      ],
      "text/plain": [
       "                                                title   gameid  \\\n",
       "46              - Am I kind-hearted? - ワタシのココロは綺麗ですか？  2050840   \n",
       "48                - Doki Doki Family - 特異体質者のドキドキ家族生活  1961860   \n",
       "49    - Mischief Dungeon Life - 異世界転生した俺のイタズラダンジョンライフ  1961870   \n",
       "50  - Mischief Dungeon Life - 異世界転生した俺のイタズラダンジョンライ...  2184390   \n",
       "51  - Mischief Dungeon Life - 異世界転生した俺のイタズラダンジョンライ...  2184420   \n",
       "\n",
       "                                      developers            publishers  \\\n",
       "46  ['CyberStep, Inc.', 'Rideon Works Co. Ltd,']   ['CyberStep, Inc.']   \n",
       "48  ['CyberStep, Inc.', 'Rideon Works Co. Ltd,']   ['CyberStep, Inc.']   \n",
       "49  ['CyberStep, Inc.', 'Rideon Works Co. Ltd,']   ['CyberStep, Inc.']   \n",
       "50  ['CyberStep, Inc.', 'Rideon Works Co. Ltd,']   ['CyberStep, Inc.']   \n",
       "51  ['CyberStep, Inc.', 'Rideon Works Co. Ltd,']  [' CyberStep, Inc.']   \n",
       "\n",
       "            genres                                supported_languages  Steam  \\\n",
       "46   ['Adventure']  ['English', 'French', 'Italian', 'German', 'Sp...      1   \n",
       "48  ['Simulation']  ['English', 'Italian', 'Spanish - Spain', 'Dut...      1   \n",
       "49  ['Simulation']  ['English', 'Italian', 'Spanish - Spain', 'Dut...      1   \n",
       "50   ['Adventure']  ['English', 'Italian', 'Spanish - Spain', 'Dut...      1   \n",
       "51   ['Adventure']  ['English', 'Italian', 'Spanish - Spain', 'Dut...      1   \n",
       "\n",
       "    release_year_scaled  \n",
       "46             0.488368  \n",
       "48             0.438871  \n",
       "49             0.438871  \n",
       "50             0.599736  \n",
       "51             0.599736  "
      ]
     },
     "execution_count": 95,
     "metadata": {},
     "output_type": "execute_result"
    }
   ],
   "source": [
    "#Filter out rows with \"beyond_100\" developers and unknown developers\n",
    "filtered_games_clu = games_cluster_new[\n",
    "    (games_cluster_new['developers'] != 'beyond_100') & \n",
    "    (games_cluster_new['developers'] != 'Unknown_dev')\n",
    "]\n",
    "\n",
    "filtered_games_clu.head()"
   ]
  },
  {
   "cell_type": "code",
   "execution_count": 100,
   "id": "af9fd24a",
   "metadata": {},
   "outputs": [
    {
     "name": "stderr",
     "output_type": "stream",
     "text": [
      "C:\\Users\\Twk14\\AppData\\Local\\Programs\\Python\\Python39\\lib\\site-packages\\sklearn\\cluster\\_kmeans.py:1934: FutureWarning: The default value of `n_init` will change from 3 to 'auto' in 1.4. Set the value of `n_init` explicitly to suppress the warning\n",
      "  super()._check_params_vs_input(X, default_n_init=3)\n",
      "<ipython-input-100-adaf23fec490>:8: SettingWithCopyWarning: \n",
      "A value is trying to be set on a copy of a slice from a DataFrame.\n",
      "Try using .loc[row_indexer,col_indexer] = value instead\n",
      "\n",
      "See the caveats in the documentation: https://pandas.pydata.org/pandas-docs/stable/user_guide/indexing.html#returning-a-view-versus-a-copy\n",
      "  filtered_games_clu['Cluster_release_yr'] = clust_release_year\n"
     ]
    }
   ],
   "source": [
    "# perform clustering on release_year_scaled as numeric feature separetely\n",
    "\n",
    "mini_k_release_year = MiniBatchKMeans(n_clusters=10, random_state=42, batch_size=100)\n",
    "clust_release_year = mini_k_release_year.fit_predict(filtered_games_clu[['release_year_scaled']])\n",
    "\n",
    "# Add the cluster labels back to the dataset\n",
    "filtered_games_clu['Cluster_release_yr'] = clust_release_year\n"
   ]
  },
  {
   "cell_type": "code",
   "execution_count": 101,
   "id": "3cd6aba3",
   "metadata": {},
   "outputs": [],
   "source": [
    "# drop cols 'title','gameid','publishers','Steam','supported_languages','release_year_scaled'\n",
    "cols_to_drop1 = ['title','gameid','publishers','Steam','supported_languages','release_year_scaled']\n",
    "filtered_games_clu = filtered_games_clu.drop(columns = cols_to_drop1, axis=1)"
   ]
  },
  {
   "cell_type": "code",
   "execution_count": 102,
   "id": "c215ac61",
   "metadata": {},
   "outputs": [
    {
     "data": {
      "text/html": [
       "<div>\n",
       "<style scoped>\n",
       "    .dataframe tbody tr th:only-of-type {\n",
       "        vertical-align: middle;\n",
       "    }\n",
       "\n",
       "    .dataframe tbody tr th {\n",
       "        vertical-align: top;\n",
       "    }\n",
       "\n",
       "    .dataframe thead th {\n",
       "        text-align: right;\n",
       "    }\n",
       "</style>\n",
       "<table border=\"1\" class=\"dataframe\">\n",
       "  <thead>\n",
       "    <tr style=\"text-align: right;\">\n",
       "      <th></th>\n",
       "      <th>developers</th>\n",
       "      <th>genres</th>\n",
       "      <th>Cluster_release_yr</th>\n",
       "    </tr>\n",
       "  </thead>\n",
       "  <tbody>\n",
       "    <tr>\n",
       "      <th>82087</th>\n",
       "      <td>['CyberStep, Inc.', 'Rideon Works Co. Ltd,']</td>\n",
       "      <td>['Adventure', 'Casual', 'Simulation']</td>\n",
       "      <td>2</td>\n",
       "    </tr>\n",
       "    <tr>\n",
       "      <th>82088</th>\n",
       "      <td>['CyberStep, Inc.', 'Rideon Works Co. Ltd,']</td>\n",
       "      <td>['Adventure', 'Casual', 'Simulation']</td>\n",
       "      <td>2</td>\n",
       "    </tr>\n",
       "    <tr>\n",
       "      <th>82103</th>\n",
       "      <td>['CyberStep, Inc.', 'Rideon Works Co. Ltd,']</td>\n",
       "      <td>Other</td>\n",
       "      <td>2</td>\n",
       "    </tr>\n",
       "    <tr>\n",
       "      <th>82222</th>\n",
       "      <td>['CyberStep, Inc.', 'Rideon Works Co. Ltd,']</td>\n",
       "      <td>['Adventure', 'Casual', 'Simulation']</td>\n",
       "      <td>5</td>\n",
       "    </tr>\n",
       "    <tr>\n",
       "      <th>82259</th>\n",
       "      <td>['CyberStep, Inc.', 'Rideon Works Co. Ltd,']</td>\n",
       "      <td>['Adventure', 'Casual', 'Simulation']</td>\n",
       "      <td>2</td>\n",
       "    </tr>\n",
       "  </tbody>\n",
       "</table>\n",
       "</div>"
      ],
      "text/plain": [
       "                                         developers  \\\n",
       "82087  ['CyberStep, Inc.', 'Rideon Works Co. Ltd,']   \n",
       "82088  ['CyberStep, Inc.', 'Rideon Works Co. Ltd,']   \n",
       "82103  ['CyberStep, Inc.', 'Rideon Works Co. Ltd,']   \n",
       "82222  ['CyberStep, Inc.', 'Rideon Works Co. Ltd,']   \n",
       "82259  ['CyberStep, Inc.', 'Rideon Works Co. Ltd,']   \n",
       "\n",
       "                                      genres  Cluster_release_yr  \n",
       "82087  ['Adventure', 'Casual', 'Simulation']                   2  \n",
       "82088  ['Adventure', 'Casual', 'Simulation']                   2  \n",
       "82103                                  Other                   2  \n",
       "82222  ['Adventure', 'Casual', 'Simulation']                   5  \n",
       "82259  ['Adventure', 'Casual', 'Simulation']                   2  "
      ]
     },
     "execution_count": 102,
     "metadata": {},
     "output_type": "execute_result"
    }
   ],
   "source": [
    "filtered_games_clu.tail()"
   ]
  },
  {
   "cell_type": "code",
   "execution_count": 103,
   "id": "5c30f0c1",
   "metadata": {},
   "outputs": [
    {
     "data": {
      "text/plain": [
       "(4532, 3)"
      ]
     },
     "execution_count": 103,
     "metadata": {},
     "output_type": "execute_result"
    }
   ],
   "source": [
    "filtered_games_clu.shape"
   ]
  },
  {
   "cell_type": "code",
   "execution_count": 118,
   "id": "3b6325f5",
   "metadata": {},
   "outputs": [
    {
     "name": "stderr",
     "output_type": "stream",
     "text": [
      "C:\\Users\\Twk14\\AppData\\Local\\Programs\\Python\\Python39\\lib\\site-packages\\sklearn\\preprocessing\\_encoders.py:975: FutureWarning: `sparse` was renamed to `sparse_output` in version 1.2 and will be removed in 1.4. `sparse_output` is ignored unless you leave `sparse` to its default value.\n",
      "  warnings.warn(\n",
      "C:\\Users\\Twk14\\AppData\\Local\\Programs\\Python\\Python39\\lib\\site-packages\\sklearn\\cluster\\_kmeans.py:1934: FutureWarning: The default value of `n_init` will change from 3 to 'auto' in 1.4. Set the value of `n_init` explicitly to suppress the warning\n",
      "  super()._check_params_vs_input(X, default_n_init=3)\n"
     ]
    }
   ],
   "source": [
    "# Run Clustering after encoding based on variance = 0.01 then run cluter with chunk\n",
    "from sklearn.feature_selection import VarianceThreshold\n",
    "from sklearn.preprocessing import StandardScaler, OneHotEncoder\n",
    "from sklearn.cluster import MiniBatchKMeans\n",
    "import pandas as pd\n",
    "\n",
    "encoder = OneHotEncoder(sparse=False)\n",
    "encoded_features = encoder.fit_transform(filtered_games_clu[['developers', 'genres']])\n",
    "encoded_columns = encoder.get_feature_names_out(['developers', 'genres'])\n",
    "processed_data = pd.DataFrame(encoded_features, columns=encoded_columns)\n",
    "selector = VarianceThreshold(threshold=0.01)  \n",
    "reduced_features = selector.fit_transform(processed_data)\n",
    "chunk_size = 10000 \n",
    "clusters_list = []\n",
    "\n",
    "for start_row in range(0, len(reduced_features), chunk_size):\n",
    "    chunk = reduced_features[start_row:start_row + chunk_size]\n",
    "    mini_kmeans = MiniBatchKMeans(n_clusters=10, random_state=0, batch_size=100)\n",
    "    chunk_clusters = mini_kmeans.fit_predict(chunk)\n",
    "    clusters_list.extend(chunk_clusters)\n",
    "\n",
    "filtered_games_clu['Cluster_of_dev&Genres'] = clusters_list[:len(filtered_games_clu)]  \n"
   ]
  },
  {
   "cell_type": "code",
   "execution_count": 119,
   "id": "5a1f6c74",
   "metadata": {},
   "outputs": [
    {
     "data": {
      "text/html": [
       "<div>\n",
       "<style scoped>\n",
       "    .dataframe tbody tr th:only-of-type {\n",
       "        vertical-align: middle;\n",
       "    }\n",
       "\n",
       "    .dataframe tbody tr th {\n",
       "        vertical-align: top;\n",
       "    }\n",
       "\n",
       "    .dataframe thead th {\n",
       "        text-align: right;\n",
       "    }\n",
       "</style>\n",
       "<table border=\"1\" class=\"dataframe\">\n",
       "  <thead>\n",
       "    <tr style=\"text-align: right;\">\n",
       "      <th></th>\n",
       "      <th>developers</th>\n",
       "      <th>genres</th>\n",
       "      <th>Cluster_release_yr</th>\n",
       "      <th>Cluster_of_dev&amp;Genres</th>\n",
       "    </tr>\n",
       "  </thead>\n",
       "  <tbody>\n",
       "    <tr>\n",
       "      <th>46</th>\n",
       "      <td>['CyberStep, Inc.', 'Rideon Works Co. Ltd,']</td>\n",
       "      <td>['Adventure']</td>\n",
       "      <td>2</td>\n",
       "      <td>1</td>\n",
       "    </tr>\n",
       "    <tr>\n",
       "      <th>48</th>\n",
       "      <td>['CyberStep, Inc.', 'Rideon Works Co. Ltd,']</td>\n",
       "      <td>['Simulation']</td>\n",
       "      <td>7</td>\n",
       "      <td>1</td>\n",
       "    </tr>\n",
       "    <tr>\n",
       "      <th>49</th>\n",
       "      <td>['CyberStep, Inc.', 'Rideon Works Co. Ltd,']</td>\n",
       "      <td>['Simulation']</td>\n",
       "      <td>7</td>\n",
       "      <td>1</td>\n",
       "    </tr>\n",
       "    <tr>\n",
       "      <th>50</th>\n",
       "      <td>['CyberStep, Inc.', 'Rideon Works Co. Ltd,']</td>\n",
       "      <td>['Adventure']</td>\n",
       "      <td>2</td>\n",
       "      <td>1</td>\n",
       "    </tr>\n",
       "    <tr>\n",
       "      <th>51</th>\n",
       "      <td>['CyberStep, Inc.', 'Rideon Works Co. Ltd,']</td>\n",
       "      <td>['Adventure']</td>\n",
       "      <td>2</td>\n",
       "      <td>1</td>\n",
       "    </tr>\n",
       "  </tbody>\n",
       "</table>\n",
       "</div>"
      ],
      "text/plain": [
       "                                      developers          genres  \\\n",
       "46  ['CyberStep, Inc.', 'Rideon Works Co. Ltd,']   ['Adventure']   \n",
       "48  ['CyberStep, Inc.', 'Rideon Works Co. Ltd,']  ['Simulation']   \n",
       "49  ['CyberStep, Inc.', 'Rideon Works Co. Ltd,']  ['Simulation']   \n",
       "50  ['CyberStep, Inc.', 'Rideon Works Co. Ltd,']   ['Adventure']   \n",
       "51  ['CyberStep, Inc.', 'Rideon Works Co. Ltd,']   ['Adventure']   \n",
       "\n",
       "    Cluster_release_yr  Cluster_of_dev&Genres  \n",
       "46                   2                      1  \n",
       "48                   7                      1  \n",
       "49                   7                      1  \n",
       "50                   2                      1  \n",
       "51                   2                      1  "
      ]
     },
     "execution_count": 119,
     "metadata": {},
     "output_type": "execute_result"
    }
   ],
   "source": [
    "filtered_games_clu.head()"
   ]
  },
  {
   "cell_type": "code",
   "execution_count": 116,
   "id": "84ba0924",
   "metadata": {},
   "outputs": [
    {
     "name": "stderr",
     "output_type": "stream",
     "text": [
      "C:\\Users\\Twk14\\AppData\\Local\\Programs\\Python\\Python39\\lib\\site-packages\\sklearn\\cluster\\_kmeans.py:1416: FutureWarning: The default value of `n_init` will change from 10 to 'auto' in 1.4. Set the value of `n_init` explicitly to suppress the warning\n",
      "  super()._check_params_vs_input(X, default_n_init=10)\n",
      "C:\\Users\\Twk14\\AppData\\Local\\Programs\\Python\\Python39\\lib\\site-packages\\sklearn\\cluster\\_kmeans.py:1416: FutureWarning: The default value of `n_init` will change from 10 to 'auto' in 1.4. Set the value of `n_init` explicitly to suppress the warning\n",
      "  super()._check_params_vs_input(X, default_n_init=10)\n",
      "C:\\Users\\Twk14\\AppData\\Local\\Programs\\Python\\Python39\\lib\\site-packages\\sklearn\\cluster\\_kmeans.py:1416: FutureWarning: The default value of `n_init` will change from 10 to 'auto' in 1.4. Set the value of `n_init` explicitly to suppress the warning\n",
      "  super()._check_params_vs_input(X, default_n_init=10)\n",
      "C:\\Users\\Twk14\\AppData\\Local\\Programs\\Python\\Python39\\lib\\site-packages\\sklearn\\cluster\\_kmeans.py:1416: FutureWarning: The default value of `n_init` will change from 10 to 'auto' in 1.4. Set the value of `n_init` explicitly to suppress the warning\n",
      "  super()._check_params_vs_input(X, default_n_init=10)\n",
      "C:\\Users\\Twk14\\AppData\\Local\\Programs\\Python\\Python39\\lib\\site-packages\\sklearn\\cluster\\_kmeans.py:1416: FutureWarning: The default value of `n_init` will change from 10 to 'auto' in 1.4. Set the value of `n_init` explicitly to suppress the warning\n",
      "  super()._check_params_vs_input(X, default_n_init=10)\n",
      "C:\\Users\\Twk14\\AppData\\Local\\Programs\\Python\\Python39\\lib\\site-packages\\sklearn\\cluster\\_kmeans.py:1416: FutureWarning: The default value of `n_init` will change from 10 to 'auto' in 1.4. Set the value of `n_init` explicitly to suppress the warning\n",
      "  super()._check_params_vs_input(X, default_n_init=10)\n",
      "C:\\Users\\Twk14\\AppData\\Local\\Programs\\Python\\Python39\\lib\\site-packages\\sklearn\\cluster\\_kmeans.py:1416: FutureWarning: The default value of `n_init` will change from 10 to 'auto' in 1.4. Set the value of `n_init` explicitly to suppress the warning\n",
      "  super()._check_params_vs_input(X, default_n_init=10)\n",
      "C:\\Users\\Twk14\\AppData\\Local\\Programs\\Python\\Python39\\lib\\site-packages\\sklearn\\cluster\\_kmeans.py:1416: FutureWarning: The default value of `n_init` will change from 10 to 'auto' in 1.4. Set the value of `n_init` explicitly to suppress the warning\n",
      "  super()._check_params_vs_input(X, default_n_init=10)\n",
      "C:\\Users\\Twk14\\AppData\\Local\\Programs\\Python\\Python39\\lib\\site-packages\\sklearn\\cluster\\_kmeans.py:1416: FutureWarning: The default value of `n_init` will change from 10 to 'auto' in 1.4. Set the value of `n_init` explicitly to suppress the warning\n",
      "  super()._check_params_vs_input(X, default_n_init=10)\n",
      "C:\\Users\\Twk14\\AppData\\Local\\Programs\\Python\\Python39\\lib\\site-packages\\sklearn\\cluster\\_kmeans.py:1416: FutureWarning: The default value of `n_init` will change from 10 to 'auto' in 1.4. Set the value of `n_init` explicitly to suppress the warning\n",
      "  super()._check_params_vs_input(X, default_n_init=10)\n"
     ]
    },
    {
     "data": {
      "image/png": "[encoded data removed]",
      "text/plain": [
       "<Figure size 432x288 with 1 Axes>"
      ]
     },
     "metadata": {
      "needs_background": "light"
     },
     "output_type": "display_data"
    }
   ],
   "source": [
    "from sklearn.cluster import KMeans\n",
    "import matplotlib.pyplot as plt\n",
    "# checking best k no using elbow\n",
    "\n",
    "wcss = []\n",
    "for i in range(1, 11):\n",
    "    kmeans = KMeans(n_clusters=i, random_state=42)\n",
    "    kmeans.fit(processed_data)\n",
    "    wcss.append(kmeans.inertia_)\n",
    "\n",
    "plt.plot(range(1, 11), wcss)\n",
    "plt.title('Elbow Method')\n",
    "plt.xlabel('Number of Clusters')\n",
    "plt.ylabel('Sum of squared erors')\n",
    "plt.show()"
   ]
  },
  {
   "cell_type": "code",
   "execution_count": 107,
   "id": "a5803151",
   "metadata": {},
   "outputs": [
    {
     "name": "stderr",
     "output_type": "stream",
     "text": [
      "C:\\Users\\Twk14\\AppData\\Local\\Programs\\Python\\Python39\\lib\\site-packages\\sklearn\\cluster\\_kmeans.py:1416: FutureWarning: The default value of `n_init` will change from 10 to 'auto' in 1.4. Set the value of `n_init` explicitly to suppress the warning\n",
      "  super()._check_params_vs_input(X, default_n_init=10)\n",
      "C:\\Users\\Twk14\\AppData\\Local\\Programs\\Python\\Python39\\lib\\site-packages\\sklearn\\cluster\\_kmeans.py:1416: FutureWarning: The default value of `n_init` will change from 10 to 'auto' in 1.4. Set the value of `n_init` explicitly to suppress the warning\n",
      "  super()._check_params_vs_input(X, default_n_init=10)\n",
      "C:\\Users\\Twk14\\AppData\\Local\\Programs\\Python\\Python39\\lib\\site-packages\\sklearn\\cluster\\_kmeans.py:1416: FutureWarning: The default value of `n_init` will change from 10 to 'auto' in 1.4. Set the value of `n_init` explicitly to suppress the warning\n",
      "  super()._check_params_vs_input(X, default_n_init=10)\n",
      "C:\\Users\\Twk14\\AppData\\Local\\Programs\\Python\\Python39\\lib\\site-packages\\sklearn\\cluster\\_kmeans.py:1416: FutureWarning: The default value of `n_init` will change from 10 to 'auto' in 1.4. Set the value of `n_init` explicitly to suppress the warning\n",
      "  super()._check_params_vs_input(X, default_n_init=10)\n",
      "C:\\Users\\Twk14\\AppData\\Local\\Programs\\Python\\Python39\\lib\\site-packages\\sklearn\\cluster\\_kmeans.py:1416: FutureWarning: The default value of `n_init` will change from 10 to 'auto' in 1.4. Set the value of `n_init` explicitly to suppress the warning\n",
      "  super()._check_params_vs_input(X, default_n_init=10)\n",
      "C:\\Users\\Twk14\\AppData\\Local\\Programs\\Python\\Python39\\lib\\site-packages\\sklearn\\cluster\\_kmeans.py:1416: FutureWarning: The default value of `n_init` will change from 10 to 'auto' in 1.4. Set the value of `n_init` explicitly to suppress the warning\n",
      "  super()._check_params_vs_input(X, default_n_init=10)\n",
      "C:\\Users\\Twk14\\AppData\\Local\\Programs\\Python\\Python39\\lib\\site-packages\\sklearn\\cluster\\_kmeans.py:1416: FutureWarning: The default value of `n_init` will change from 10 to 'auto' in 1.4. Set the value of `n_init` explicitly to suppress the warning\n",
      "  super()._check_params_vs_input(X, default_n_init=10)\n",
      "C:\\Users\\Twk14\\AppData\\Local\\Programs\\Python\\Python39\\lib\\site-packages\\sklearn\\cluster\\_kmeans.py:1416: FutureWarning: The default value of `n_init` will change from 10 to 'auto' in 1.4. Set the value of `n_init` explicitly to suppress the warning\n",
      "  super()._check_params_vs_input(X, default_n_init=10)\n",
      "C:\\Users\\Twk14\\AppData\\Local\\Programs\\Python\\Python39\\lib\\site-packages\\sklearn\\cluster\\_kmeans.py:1416: FutureWarning: The default value of `n_init` will change from 10 to 'auto' in 1.4. Set the value of `n_init` explicitly to suppress the warning\n",
      "  super()._check_params_vs_input(X, default_n_init=10)\n"
     ]
    },
    {
     "data": {
      "image/png": "[encoded data removed]",
      "text/plain": [
       "<Figure size 432x288 with 1 Axes>"
      ]
     },
     "metadata": {
      "needs_background": "light"
     },
     "output_type": "display_data"
    }
   ],
   "source": [
    "# score ranges from -1 (poor) to 1 (perfect clustering) best works on high cardinality data\n",
    "from sklearn.metrics import silhouette_score\n",
    "\n",
    "silhouette_scores = []\n",
    "for k in range(2, 11):  \n",
    "    kmeans = KMeans(n_clusters=k, random_state=0)\n",
    "    labels = kmeans.fit_predict(processed_data)\n",
    "    score = silhouette_score(processed_data, labels)\n",
    "    silhouette_scores.append(score)\n",
    "\n",
    "plt.plot(range(2, 11), silhouette_scores, 'bx-')\n",
    "plt.xlabel('Number of Clusters (k)')\n",
    "plt.ylabel('Silhouette Score')\n",
    "plt.title('Silhouette Method for Optimal k')\n",
    "plt.show()"
   ]
  },
  {
   "cell_type": "code",
   "execution_count": 108,
   "id": "ec63d7c8",
   "metadata": {},
   "outputs": [],
   "source": [
    "import umap"
   ]
  },
  {
   "cell_type": "code",
   "execution_count": 109,
   "id": "5b40e7b3",
   "metadata": {},
   "outputs": [
    {
     "name": "stderr",
     "output_type": "stream",
     "text": [
      "C:\\Users\\Twk14\\AppData\\Local\\Programs\\Python\\Python39\\lib\\site-packages\\umap\\umap_.py:1952: UserWarning: n_jobs value 1 overridden to 1 by setting random_state. Use no seed for parallelism.\n",
      "  warn(\n"
     ]
    },
    {
     "data": {
      "image/png": "[encoded data removed]",
      "text/plain": [
       "<Figure size 432x288 with 2 Axes>"
      ]
     },
     "metadata": {
      "needs_background": "light"
     },
     "output_type": "display_data"
    }
   ],
   "source": [
    "# Reduce to 2 dimensions using UMAP\n",
    "reducer = umap.UMAP(n_components=2, random_state=42)\n",
    "reduced_data_umap = reducer.fit_transform(processed_data)\n",
    "\n",
    "plt.scatter(reduced_data_umap[:, 0], reduced_data_umap[:, 1], c=filtered_games_clu['Cluster_of_dev&Genres'], cmap='viridis')\n",
    "plt.xlabel('UMAP Dimension 1')\n",
    "plt.ylabel('UMAP Dimension 2')\n",
    "plt.title('Clustering Results (UMAP)')\n",
    "plt.colorbar(label='Cluster')\n",
    "plt.show()"
   ]
  },
  {
   "cell_type": "code",
   "execution_count": 75,
   "id": "feab7519",
   "metadata": {},
   "outputs": [
    {
     "data": {
      "text/plain": [
       "array([4, 1, 7, 6, 9, 8, 3, 2, 0, 5], dtype=int64)"
      ]
     },
     "execution_count": 75,
     "metadata": {},
     "output_type": "execute_result"
    }
   ],
   "source": [
    "clusters = filtered_games_clu['Cluster_of_dev&Genres'].unique()\n",
    "clusters"
   ]
  },
  {
   "cell_type": "code",
   "execution_count": 76,
   "id": "350ade91",
   "metadata": {},
   "outputs": [
    {
     "name": "stdout",
     "output_type": "stream",
     "text": [
      "[4 1 7 6 9 8 3 2 0 5]\n"
     ]
    }
   ],
   "source": [
    "print(filtered_games_clu['Cluster_of_dev&Genres'].unique())"
   ]
  },
  {
   "cell_type": "code",
   "execution_count": 110,
   "id": "f09d7f87",
   "metadata": {
    "collapsed": true
   },
   "outputs": [
    {
     "name": "stdout",
     "output_type": "stream",
     "text": [
      "Cluster 9: 210 members\n",
      "                  developers                   genres  Cluster_of_dev&Genres\n",
      "205              ['Creobit']  ['Adventure', 'Casual']                      9\n",
      "247          ['Somer Games']  ['Adventure', 'Casual']                      9\n",
      "254              ['Creobit']  ['Adventure', 'Casual']                      9\n",
      "255              ['Creobit']  ['Adventure', 'Casual']                      9\n",
      "3036             ['Creobit']  ['Adventure', 'Casual']                      9\n",
      "...                      ...                      ...                    ...\n",
      "75673  ['William at Oxford']  ['Adventure', 'Casual']                      9\n",
      "75828        ['Casual Arts']  ['Adventure', 'Casual']                      9\n",
      "75829        ['Casual Arts']  ['Adventure', 'Casual']                      9\n",
      "75893            ['Creobit']  ['Adventure', 'Casual']                      9\n",
      "79886          ['Frontwing']  ['Adventure', 'Casual']                      9\n",
      "\n",
      "[210 rows x 3 columns]\n",
      "\n",
      "--------------------------------------------------\n",
      "\n",
      "Cluster 9: 210 members\n",
      "                  developers                   genres  Cluster_of_dev&Genres\n",
      "205              ['Creobit']  ['Adventure', 'Casual']                      9\n",
      "247          ['Somer Games']  ['Adventure', 'Casual']                      9\n",
      "254              ['Creobit']  ['Adventure', 'Casual']                      9\n",
      "255              ['Creobit']  ['Adventure', 'Casual']                      9\n",
      "3036             ['Creobit']  ['Adventure', 'Casual']                      9\n",
      "...                      ...                      ...                    ...\n",
      "75673  ['William at Oxford']  ['Adventure', 'Casual']                      9\n",
      "75828        ['Casual Arts']  ['Adventure', 'Casual']                      9\n",
      "75829        ['Casual Arts']  ['Adventure', 'Casual']                      9\n",
      "75893            ['Creobit']  ['Adventure', 'Casual']                      9\n",
      "79886          ['Frontwing']  ['Adventure', 'Casual']                      9\n",
      "\n",
      "[210 rows x 3 columns]\n",
      "\n",
      "--------------------------------------------------\n",
      "\n",
      "Cluster 9: 210 members\n",
      "                  developers                   genres  Cluster_of_dev&Genres\n",
      "205              ['Creobit']  ['Adventure', 'Casual']                      9\n",
      "247          ['Somer Games']  ['Adventure', 'Casual']                      9\n",
      "254              ['Creobit']  ['Adventure', 'Casual']                      9\n",
      "255              ['Creobit']  ['Adventure', 'Casual']                      9\n",
      "3036             ['Creobit']  ['Adventure', 'Casual']                      9\n",
      "...                      ...                      ...                    ...\n",
      "75673  ['William at Oxford']  ['Adventure', 'Casual']                      9\n",
      "75828        ['Casual Arts']  ['Adventure', 'Casual']                      9\n",
      "75829        ['Casual Arts']  ['Adventure', 'Casual']                      9\n",
      "75893            ['Creobit']  ['Adventure', 'Casual']                      9\n",
      "79886          ['Frontwing']  ['Adventure', 'Casual']                      9\n",
      "\n",
      "[210 rows x 3 columns]\n",
      "\n",
      "--------------------------------------------------\n",
      "\n",
      "Cluster 9: 210 members\n",
      "                  developers                   genres  Cluster_of_dev&Genres\n",
      "205              ['Creobit']  ['Adventure', 'Casual']                      9\n",
      "247          ['Somer Games']  ['Adventure', 'Casual']                      9\n",
      "254              ['Creobit']  ['Adventure', 'Casual']                      9\n",
      "255              ['Creobit']  ['Adventure', 'Casual']                      9\n",
      "3036             ['Creobit']  ['Adventure', 'Casual']                      9\n",
      "...                      ...                      ...                    ...\n",
      "75673  ['William at Oxford']  ['Adventure', 'Casual']                      9\n",
      "75828        ['Casual Arts']  ['Adventure', 'Casual']                      9\n",
      "75829        ['Casual Arts']  ['Adventure', 'Casual']                      9\n",
      "75893            ['Creobit']  ['Adventure', 'Casual']                      9\n",
      "79886          ['Frontwing']  ['Adventure', 'Casual']                      9\n",
      "\n",
      "[210 rows x 3 columns]\n",
      "\n",
      "--------------------------------------------------\n",
      "\n",
      "Cluster 9: 210 members\n",
      "                  developers                   genres  Cluster_of_dev&Genres\n",
      "205              ['Creobit']  ['Adventure', 'Casual']                      9\n",
      "247          ['Somer Games']  ['Adventure', 'Casual']                      9\n",
      "254              ['Creobit']  ['Adventure', 'Casual']                      9\n",
      "255              ['Creobit']  ['Adventure', 'Casual']                      9\n",
      "3036             ['Creobit']  ['Adventure', 'Casual']                      9\n",
      "...                      ...                      ...                    ...\n",
      "75673  ['William at Oxford']  ['Adventure', 'Casual']                      9\n",
      "75828        ['Casual Arts']  ['Adventure', 'Casual']                      9\n",
      "75829        ['Casual Arts']  ['Adventure', 'Casual']                      9\n",
      "75893            ['Creobit']  ['Adventure', 'Casual']                      9\n",
      "79886          ['Frontwing']  ['Adventure', 'Casual']                      9\n",
      "\n",
      "[210 rows x 3 columns]\n",
      "\n",
      "--------------------------------------------------\n",
      "\n",
      "Cluster 9: 210 members\n",
      "                  developers                   genres  Cluster_of_dev&Genres\n",
      "205              ['Creobit']  ['Adventure', 'Casual']                      9\n",
      "247          ['Somer Games']  ['Adventure', 'Casual']                      9\n",
      "254              ['Creobit']  ['Adventure', 'Casual']                      9\n",
      "255              ['Creobit']  ['Adventure', 'Casual']                      9\n",
      "3036             ['Creobit']  ['Adventure', 'Casual']                      9\n",
      "...                      ...                      ...                    ...\n",
      "75673  ['William at Oxford']  ['Adventure', 'Casual']                      9\n",
      "75828        ['Casual Arts']  ['Adventure', 'Casual']                      9\n",
      "75829        ['Casual Arts']  ['Adventure', 'Casual']                      9\n",
      "75893            ['Creobit']  ['Adventure', 'Casual']                      9\n",
      "79886          ['Frontwing']  ['Adventure', 'Casual']                      9\n",
      "\n",
      "[210 rows x 3 columns]\n",
      "\n",
      "--------------------------------------------------\n",
      "\n",
      "Cluster 9: 210 members\n",
      "                  developers                   genres  Cluster_of_dev&Genres\n",
      "205              ['Creobit']  ['Adventure', 'Casual']                      9\n",
      "247          ['Somer Games']  ['Adventure', 'Casual']                      9\n",
      "254              ['Creobit']  ['Adventure', 'Casual']                      9\n",
      "255              ['Creobit']  ['Adventure', 'Casual']                      9\n",
      "3036             ['Creobit']  ['Adventure', 'Casual']                      9\n",
      "...                      ...                      ...                    ...\n",
      "75673  ['William at Oxford']  ['Adventure', 'Casual']                      9\n",
      "75828        ['Casual Arts']  ['Adventure', 'Casual']                      9\n",
      "75829        ['Casual Arts']  ['Adventure', 'Casual']                      9\n",
      "75893            ['Creobit']  ['Adventure', 'Casual']                      9\n",
      "79886          ['Frontwing']  ['Adventure', 'Casual']                      9\n",
      "\n",
      "[210 rows x 3 columns]\n",
      "\n",
      "--------------------------------------------------\n",
      "\n",
      "Cluster 9: 210 members\n",
      "                  developers                   genres  Cluster_of_dev&Genres\n",
      "205              ['Creobit']  ['Adventure', 'Casual']                      9\n",
      "247          ['Somer Games']  ['Adventure', 'Casual']                      9\n",
      "254              ['Creobit']  ['Adventure', 'Casual']                      9\n",
      "255              ['Creobit']  ['Adventure', 'Casual']                      9\n",
      "3036             ['Creobit']  ['Adventure', 'Casual']                      9\n",
      "...                      ...                      ...                    ...\n",
      "75673  ['William at Oxford']  ['Adventure', 'Casual']                      9\n",
      "75828        ['Casual Arts']  ['Adventure', 'Casual']                      9\n",
      "75829        ['Casual Arts']  ['Adventure', 'Casual']                      9\n",
      "75893            ['Creobit']  ['Adventure', 'Casual']                      9\n",
      "79886          ['Frontwing']  ['Adventure', 'Casual']                      9\n",
      "\n",
      "[210 rows x 3 columns]\n",
      "\n",
      "--------------------------------------------------\n",
      "\n",
      "Cluster 9: 210 members\n",
      "                  developers                   genres  Cluster_of_dev&Genres\n",
      "205              ['Creobit']  ['Adventure', 'Casual']                      9\n",
      "247          ['Somer Games']  ['Adventure', 'Casual']                      9\n",
      "254              ['Creobit']  ['Adventure', 'Casual']                      9\n",
      "255              ['Creobit']  ['Adventure', 'Casual']                      9\n",
      "3036             ['Creobit']  ['Adventure', 'Casual']                      9\n",
      "...                      ...                      ...                    ...\n",
      "75673  ['William at Oxford']  ['Adventure', 'Casual']                      9\n",
      "75828        ['Casual Arts']  ['Adventure', 'Casual']                      9\n",
      "75829        ['Casual Arts']  ['Adventure', 'Casual']                      9\n",
      "75893            ['Creobit']  ['Adventure', 'Casual']                      9\n",
      "79886          ['Frontwing']  ['Adventure', 'Casual']                      9\n",
      "\n",
      "[210 rows x 3 columns]\n",
      "\n",
      "--------------------------------------------------\n",
      "\n",
      "Cluster 9: 210 members\n",
      "                  developers                   genres  Cluster_of_dev&Genres\n",
      "205              ['Creobit']  ['Adventure', 'Casual']                      9\n",
      "247          ['Somer Games']  ['Adventure', 'Casual']                      9\n",
      "254              ['Creobit']  ['Adventure', 'Casual']                      9\n",
      "255              ['Creobit']  ['Adventure', 'Casual']                      9\n",
      "3036             ['Creobit']  ['Adventure', 'Casual']                      9\n",
      "...                      ...                      ...                    ...\n",
      "75673  ['William at Oxford']  ['Adventure', 'Casual']                      9\n",
      "75828        ['Casual Arts']  ['Adventure', 'Casual']                      9\n",
      "75829        ['Casual Arts']  ['Adventure', 'Casual']                      9\n",
      "75893            ['Creobit']  ['Adventure', 'Casual']                      9\n",
      "79886          ['Frontwing']  ['Adventure', 'Casual']                      9\n",
      "\n",
      "[210 rows x 3 columns]\n",
      "\n",
      "--------------------------------------------------\n",
      "\n"
     ]
    }
   ],
   "source": [
    "# Loop through all rows to populate all 10 clusters \n",
    "for clust_id in range(10):  \n",
    "    clust_members = filtered_games_clu[filtered_games_clu['Cluster_of_dev&Genres'] == clust_id]  \n",
    "    print(f\"Cluster {cluster_id}: {len(cluster_members)} members\")\n",
    "    print(cluster_members) \n",
    "    print(\"\\n\" + \"-\" * 50 + \"\\n\")  "
   ]
  },
  {
   "cell_type": "code",
   "execution_count": null,
   "id": "8f76a60e",
   "metadata": {},
   "outputs": [],
   "source": []
  },
  {
   "cell_type": "code",
   "execution_count": null,
   "id": "ce8421e5",
   "metadata": {},
   "outputs": [],
   "source": [
    "\n"
   ]
  },
  {
   "cell_type": "code",
   "execution_count": null,
   "id": "6b609345",
   "metadata": {},
   "outputs": [],
   "source": []
  },
  {
   "cell_type": "code",
   "execution_count": null,
   "id": "9e61a787",
   "metadata": {},
   "outputs": [],
   "source": []
  },
  {
   "cell_type": "code",
   "execution_count": null,
   "id": "d9870f6a",
   "metadata": {},
   "outputs": [],
   "source": []
  },
  {
   "cell_type": "code",
   "execution_count": null,
   "id": "de8828f9",
   "metadata": {},
   "outputs": [],
   "source": []
  },
  {
   "cell_type": "code",
   "execution_count": null,
   "id": "080fef40",
   "metadata": {},
   "outputs": [],
   "source": []
  },
  {
   "cell_type": "code",
   "execution_count": null,
   "id": "38712bc9",
   "metadata": {},
   "outputs": [],
   "source": []
  },
  {
   "cell_type": "code",
   "execution_count": null,
   "id": "93e589ef",
   "metadata": {},
   "outputs": [],
   "source": []
  },
  {
   "cell_type": "code",
   "execution_count": null,
   "id": "f5c61928",
   "metadata": {},
   "outputs": [],
   "source": []
  },
  {
   "cell_type": "code",
   "execution_count": 3,
   "id": "180b8e51",
   "metadata": {},
   "outputs": [],
   "source": []
  },
  {
   "cell_type": "code",
   "execution_count": null,
   "id": "d63cea71",
   "metadata": {},
   "outputs": [],
   "source": []
  },
  {
   "cell_type": "code",
   "execution_count": null,
   "id": "a52f57f2",
   "metadata": {},
   "outputs": [],
   "source": []
  },
  {
   "cell_type": "code",
   "execution_count": null,
   "id": "e4e93522",
   "metadata": {},
   "outputs": [],
   "source": [
    "\n"
   ]
  },
  {
   "cell_type": "code",
   "execution_count": null,
   "id": "41c3b0b5",
   "metadata": {},
   "outputs": [],
   "source": []
  },
  {
   "cell_type": "code",
   "execution_count": null,
   "id": "c624b96e",
   "metadata": {},
   "outputs": [],
   "source": []
  },
  {
   "cell_type": "code",
   "execution_count": null,
   "id": "a41e8a7f",
   "metadata": {},
   "outputs": [],
   "source": []
  },
  {
   "cell_type": "code",
   "execution_count": null,
   "id": "be513a44",
   "metadata": {},
   "outputs": [],
   "source": []
  },
  {
   "cell_type": "code",
   "execution_count": null,
   "id": "ca1c4978",
   "metadata": {
    "scrolled": true
   },
   "outputs": [],
   "source": []
  },
  {
   "cell_type": "code",
   "execution_count": null,
   "id": "a2c2d314",
   "metadata": {},
   "outputs": [],
   "source": []
  },
  {
   "cell_type": "code",
   "execution_count": null,
   "id": "179da71b",
   "metadata": {},
   "outputs": [],
   "source": []
  },
  {
   "cell_type": "code",
   "execution_count": null,
   "id": "fced6452",
   "metadata": {},
   "outputs": [],
   "source": []
  },
  {
   "cell_type": "code",
   "execution_count": null,
   "id": "1ccfed43",
   "metadata": {},
   "outputs": [],
   "source": [
    "\n"
   ]
  },
  {
   "cell_type": "code",
   "execution_count": null,
   "id": "7e5240e4",
   "metadata": {},
   "outputs": [],
   "source": []
  },
  {
   "cell_type": "code",
   "execution_count": null,
   "id": "195a7448",
   "metadata": {},
   "outputs": [],
   "source": []
  },
  {
   "cell_type": "code",
   "execution_count": null,
   "id": "9887bfbe",
   "metadata": {},
   "outputs": [],
   "source": []
  },
  {
   "cell_type": "code",
   "execution_count": null,
   "id": "30a3c4ab",
   "metadata": {},
   "outputs": [],
   "source": []
  },
  {
   "cell_type": "code",
   "execution_count": null,
   "id": "477d4dbe",
   "metadata": {},
   "outputs": [],
   "source": []
  },
  {
   "cell_type": "code",
   "execution_count": null,
   "id": "00d55b47",
   "metadata": {},
   "outputs": [],
   "source": []
  },
  {
   "cell_type": "code",
   "execution_count": null,
   "id": "2e260f45",
   "metadata": {},
   "outputs": [],
   "source": []
  },
  {
   "cell_type": "code",
   "execution_count": null,
   "id": "85208b60",
   "metadata": {},
   "outputs": [],
   "source": []
  },
  {
   "cell_type": "code",
   "execution_count": null,
   "id": "e1f1bbe8",
   "metadata": {},
   "outputs": [],
   "source": []
  },
  {
   "cell_type": "code",
   "execution_count": null,
   "id": "0135db78",
   "metadata": {},
   "outputs": [],
   "source": []
  },
  {
   "cell_type": "code",
   "execution_count": null,
   "id": "6dec9825",
   "metadata": {},
   "outputs": [],
   "source": []
  }
 ],
 "metadata": {
  "kernelspec": {
   "display_name": "Python 3",
   "language": "python",
   "name": "python3"
  },
  "language_info": {
   "codemirror_mode": {
    "name": "ipython",
    "version": 3
   },
   "file_extension": ".py",
   "mimetype": "text/x-python",
   "name": "python",
   "nbconvert_exporter": "python",
   "pygments_lexer": "ipython3",
   "version": "3.9.4"
  }
 },
 "nbformat": 4,
 "nbformat_minor": 5
}
