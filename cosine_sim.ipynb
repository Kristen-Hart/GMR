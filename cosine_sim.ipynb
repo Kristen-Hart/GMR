{
 "cells": [
  {
   "cell_type": "code",
   "execution_count": 3,
   "metadata": {},
   "outputs": [],
   "source": [
    "import pandas as pd\n",
    "import ipywidgets as widgets\n",
    "from IPython.display import display, clear_output\n",
    "from sklearn.feature_extraction.text import TfidfVectorizer\n",
    "from sklearn.naive_bayes import MultinomialNB\n",
    "from sklearn.model_selection import train_test_split\n",
    "from sklearn.metrics import accuracy_score, precision_score, recall_score, f1_score, roc_auc_score, confusion_matrix\n",
    "from sklearn.metrics.pairwise import cosine_similarity"
   ]
  },
  {
   "cell_type": "code",
   "execution_count": 6,
   "metadata": {},
   "outputs": [
    {
     "data": {
      "application/vnd.jupyter.widget-view+json": {
       "model_id": "b0cb0631cbd542238a2aec00672e9f08",
       "version_major": 2,
       "version_minor": 0
      },
      "text/plain": [
       "VBox(children=(HBox(children=(Combobox(value='', description='Search:', ensure_option=True, layout=Layout(widt…"
      ]
     },
     "metadata": {},
     "output_type": "display_data"
    }
   ],
   "source": [
    "# Load and clean the data\n",
    "games = pd.read_csv(\"games_full.csv\")\n",
    "games = games.dropna(subset=[\"title\"])\n",
    "all_titles = sorted(games[\"title\"].drop_duplicates().tolist())\n",
    "\n",
    "# Combine relevant text columns\n",
    "text_cols = [\"genres\", \"supported_languages\", \"developers\", \"publishers\"]\n",
    "games[text_cols] = games[text_cols].fillna(\"\")\n",
    "games[\"text_features\"] = games[text_cols].agg(\" \".join, axis=1)\n",
    "\n",
    "#### WIDGETS ####\n",
    "search_box = widgets.Combobox(\n",
    "    placeholder=\"Type a game title here...\",\n",
    "    options=all_titles,\n",
    "    description=\"Search:\",\n",
    "    ensure_option=True,\n",
    "    layout=widgets.Layout(width=\"70%\"),\n",
    ")\n",
    "\n",
    "add_button = widgets.Button(description=\"Add Game\")\n",
    "reset_button = widgets.Button(description=\"Reset\", button_style=\"danger\")\n",
    "confirm_button = widgets.Button(description=\"Get Recommendations\", button_style=\"success\", layout=widgets.Layout(width=\"70%\"))\n",
    "\n",
    "liked_list = widgets.SelectMultiple(\n",
    "    options=[], description=\"Liked Games:\", rows=8, layout=widgets.Layout(width=\"70%\")\n",
    ")\n",
    "\n",
    "output = widgets.Output()\n",
    "\n",
    "#### CALLBACKS ####\n",
    "def on_add_click(b):\n",
    "    game = search_box.value.strip()\n",
    "    if game in all_titles and game not in liked_list.options:\n",
    "        liked_list.options = list(liked_list.options) + [game]\n",
    "        search_box.value = \"\"\n",
    "\n",
    "def on_reset_click(b):\n",
    "    liked_list.options = []\n",
    "    search_box.value = \"\"\n",
    "    with output:\n",
    "        output.clear_output()\n",
    "\n",
    "def on_confirm_click(b):\n",
    "    with output:\n",
    "        output.clear_output()\n",
    "        liked_titles = list(liked_list.options)\n",
    "        \n",
    "        if not liked_titles:\n",
    "            print(\"Please add at least one game to get recommendations.\")\n",
    "            return\n",
    "\n",
    "        print(\"You selected:\")\n",
    "        for title in liked_titles:\n",
    "            print(f\"• {title}\")\n",
    "        \n",
    "        # TF-IDF Vectorizer\n",
    "        vectorizer = TfidfVectorizer()\n",
    "        X = vectorizer.fit_transform(games[\"text_features\"])\n",
    "\n",
    "        # Indices of liked games\n",
    "        liked_indices = games[games[\"title\"].isin(liked_titles)].index\n",
    "\n",
    "        # Cosine similarity between liked games and all games\n",
    "        similarity_matrix = cosine_similarity(X[liked_indices], X)\n",
    "\n",
    "        # Average similarity score across all liked games\n",
    "        avg_similarity = similarity_matrix.mean(axis=0)\n",
    "\n",
    "        # Add similarity scores to DataFrame\n",
    "        games[\"similarity_score\"] = avg_similarity\n",
    "\n",
    "        # Exclude liked games from recommendations\n",
    "        recommendations = games[~games[\"title\"].isin(liked_titles)]\n",
    "        recommendations = recommendations.sort_values(\"similarity_score\", ascending=False)\n",
    "\n",
    "        print(\"\\n🎮 Top 10 Game Recommendations 🎮\")\n",
    "        for i, row in recommendations[[\"title\", \"similarity_score\"]].head(10).iterrows():\n",
    "            print(f\"• {row['title']} (Similarity: {row['similarity_score']:.2f})\")\n",
    "\n",
    "        # 🔎 Sanity Check – show reason for top recommendation\n",
    "        print(\"\\nWhy was this recommended?\")\n",
    "\n",
    "        top_game = recommendations.iloc[0]\n",
    "        print(f\"\\nTop Recommendation: {top_game['title']}\")\n",
    "        print(f\"Genres: {top_game['genres']}\")\n",
    "        print(f\"Developers: {top_game['developers']}\")\n",
    "        print(f\"Publishers: {top_game['publishers']}\")\n",
    "        print(f\"Languages: {top_game['supported_languages']}\")\n",
    "\n",
    "        liked_game = games[games[\"title\"] == liked_titles[0]].iloc[0]\n",
    "        print(\"\\n🔍 Comparing with liked game:\")\n",
    "        print(f\"Liked Game: {liked_game['title']}\")\n",
    "        print(f\"Genres: {liked_game['genres']}\")\n",
    "        print(f\"Developers: {liked_game['developers']}\")\n",
    "        print(f\"Publishers: {liked_game['publishers']}\")\n",
    "        print(f\"Languages: {liked_game['supported_languages']}\")\n",
    "\n",
    "\n",
    "#### HOOK UP CALLBACKS ####\n",
    "try:\n",
    "    add_button._click_callbacks.callbacks.clear()\n",
    "    reset_button._click_callbacks.callbacks.clear()\n",
    "    confirm_button._click_callbacks.callbacks.clear()\n",
    "except Exception:\n",
    "    pass\n",
    "\n",
    "add_button.on_click(on_add_click)\n",
    "reset_button.on_click(on_reset_click)\n",
    "confirm_button.on_click(on_confirm_click)\n",
    "\n",
    "#### DISPLAY UI ####\n",
    "ui = widgets.VBox(\n",
    "    [\n",
    "        widgets.HBox([search_box, add_button, reset_button]),\n",
    "        liked_list,\n",
    "        confirm_button,\n",
    "        output,\n",
    "    ]\n",
    ")\n",
    "\n",
    "display(ui)"
   ]
  },
  {
   "cell_type": "code",
   "execution_count": 5,
   "metadata": {},
   "outputs": [
    {
     "ename": "IndexError",
     "evalue": "index 0 is out of bounds for axis 0 with size 0",
     "output_type": "error",
     "traceback": [
      "\u001b[1;31m---------------------------------------------------------------------------\u001b[0m",
      "\u001b[1;31mIndexError\u001b[0m                                Traceback (most recent call last)",
      "Cell \u001b[1;32mIn[5], line 2\u001b[0m\n\u001b[0;32m      1\u001b[0m \u001b[38;5;66;03m# Check why a recommended game was picked\u001b[39;00m\n\u001b[1;32m----> 2\u001b[0m \u001b[38;5;28mprint\u001b[39m(\u001b[43mgames\u001b[49m\u001b[38;5;241;43m.\u001b[39;49m\u001b[43mloc\u001b[49m\u001b[43m[\u001b[49m\u001b[43mgames\u001b[49m\u001b[43m[\u001b[49m\u001b[38;5;124;43m'\u001b[39;49m\u001b[38;5;124;43mtitle\u001b[39;49m\u001b[38;5;124;43m'\u001b[39;49m\u001b[43m]\u001b[49m\u001b[43m \u001b[49m\u001b[38;5;241;43m==\u001b[39;49m\u001b[43m \u001b[49m\u001b[38;5;124;43m'\u001b[39;49m\u001b[38;5;124;43mYour Recommended Game Title\u001b[39;49m\u001b[38;5;124;43m'\u001b[39;49m\u001b[43m,\u001b[49m\u001b[43m \u001b[49m\u001b[38;5;124;43m'\u001b[39;49m\u001b[38;5;124;43mtext_features\u001b[39;49m\u001b[38;5;124;43m'\u001b[39;49m\u001b[43m]\u001b[49m\u001b[38;5;241;43m.\u001b[39;49m\u001b[43mvalues\u001b[49m\u001b[43m[\u001b[49m\u001b[38;5;241;43m0\u001b[39;49m\u001b[43m]\u001b[49m)\n",
      "\u001b[1;31mIndexError\u001b[0m: index 0 is out of bounds for axis 0 with size 0"
     ]
    }
   ],
   "source": [
    "# Check why a recommended game was picked\n",
    "print(games.loc[games['title'] == 'Your Recommended Game Title', 'text_features'].values[0])\n"
   ]
  }
 ],
 "metadata": {
  "kernelspec": {
   "display_name": "Python 3",
   "language": "python",
   "name": "python3"
  },
  "language_info": {
   "codemirror_mode": {
    "name": "ipython",
    "version": 3
   },
   "file_extension": ".py",
   "mimetype": "text/x-python",
   "name": "python",
   "nbconvert_exporter": "python",
   "pygments_lexer": "ipython3",
   "version": "3.12.4"
  }
 },
 "nbformat": 4,
 "nbformat_minor": 2
}
